{
 "cells": [
  {
   "cell_type": "code",
   "execution_count": 1,
   "metadata": {},
   "outputs": [],
   "source": [
    "# Loading all the libraries\n",
    "import pandas as pd\n",
    "import numpy as np\n",
    "import scipy.stats\n",
    "import streamlit as st\n",
    "import time\n",
    "import plotly.express as px\n"
   ]
  },
  {
   "cell_type": "code",
   "execution_count": 2,
   "metadata": {},
   "outputs": [],
   "source": [
    "#Load Data\n",
    "\n",
    "df = pd.read_csv('../vehicles_us.csv')"
   ]
  },
  {
   "cell_type": "code",
   "execution_count": 3,
   "metadata": {},
   "outputs": [
    {
     "name": "stdout",
     "output_type": "stream",
     "text": [
      "<class 'pandas.core.frame.DataFrame'>\n",
      "RangeIndex: 51525 entries, 0 to 51524\n",
      "Data columns (total 13 columns):\n",
      " #   Column        Non-Null Count  Dtype  \n",
      "---  ------        --------------  -----  \n",
      " 0   price         51525 non-null  int64  \n",
      " 1   model_year    47906 non-null  float64\n",
      " 2   model         51525 non-null  object \n",
      " 3   condition     51525 non-null  object \n",
      " 4   cylinders     46265 non-null  float64\n",
      " 5   fuel          51525 non-null  object \n",
      " 6   odometer      43633 non-null  float64\n",
      " 7   transmission  51525 non-null  object \n",
      " 8   type          51525 non-null  object \n",
      " 9   paint_color   42258 non-null  object \n",
      " 10  is_4wd        25572 non-null  float64\n",
      " 11  date_posted   51525 non-null  object \n",
      " 12  days_listed   51525 non-null  int64  \n",
      "dtypes: float64(4), int64(2), object(7)\n",
      "memory usage: 5.1+ MB\n"
     ]
    }
   ],
   "source": [
    "df.info()"
   ]
  },
  {
   "cell_type": "code",
   "execution_count": 4,
   "metadata": {},
   "outputs": [
    {
     "name": "stdout",
     "output_type": "stream",
     "text": [
      "<class 'pandas.core.series.Series'>\n",
      "RangeIndex: 51525 entries, 0 to 51524\n",
      "Series name: type\n",
      "Non-Null Count  Dtype \n",
      "--------------  ----- \n",
      "51525 non-null  object\n",
      "dtypes: object(1)\n",
      "memory usage: 402.7+ KB\n",
      "info: \n",
      " None\n",
      "head: \n",
      " 0        SUV\n",
      "1     pickup\n",
      "2      sedan\n",
      "3     pickup\n",
      "4      sedan\n",
      "5      sedan\n",
      "6      sedan\n",
      "7        SUV\n",
      "8        SUV\n",
      "9        SUV\n",
      "10    pickup\n",
      "11     sedan\n",
      "12    pickup\n",
      "13     sedan\n",
      "14       SUV\n",
      "Name: type, dtype: object\n",
      "sample: \n",
      " 45717    pickup\n",
      "30352     truck\n",
      "15687       SUV\n",
      "49641     sedan\n",
      "36577    pickup\n",
      "45336     sedan\n",
      "22657       SUV\n",
      "30148     coupe\n",
      "44630       van\n",
      "12708     sedan\n",
      "36301       SUV\n",
      "1306      sedan\n",
      "10369     truck\n",
      "45123     sedan\n",
      "35042    pickup\n",
      "Name: type, dtype: object\n"
     ]
    }
   ],
   "source": [
    "print (\"info: \\n\",df['type'].info())\n",
    "\n",
    "print(\"head: \\n\",df['type'].head(n=15))\n",
    "\n",
    "print(\"sample: \\n\",df['type'].sample(n=15))"
   ]
  },
  {
   "cell_type": "code",
   "execution_count": 5,
   "metadata": {},
   "outputs": [
    {
     "name": "stdout",
     "output_type": "stream",
     "text": [
      "<class 'pandas.core.frame.DataFrame'>\n",
      "RangeIndex: 51525 entries, 0 to 51524\n",
      "Data columns (total 13 columns):\n",
      " #   Column        Non-Null Count  Dtype  \n",
      "---  ------        --------------  -----  \n",
      " 0   price         51525 non-null  int64  \n",
      " 1   model_year    47906 non-null  float64\n",
      " 2   model         51525 non-null  object \n",
      " 3   condition     51525 non-null  object \n",
      " 4   cylinders     46265 non-null  float64\n",
      " 5   fuel          51525 non-null  object \n",
      " 6   odometer      43633 non-null  float64\n",
      " 7   transmission  51525 non-null  object \n",
      " 8   type          51525 non-null  object \n",
      " 9   paint_color   42258 non-null  object \n",
      " 10  is_4wd        25572 non-null  float64\n",
      " 11  date_posted   51525 non-null  object \n",
      " 12  days_listed   51525 non-null  int64  \n",
      "dtypes: float64(4), int64(2), object(7)\n",
      "memory usage: 5.1+ MB\n",
      "==================================================\n",
      "Exploring Column: \"price\"\n",
      "First few rows:\n",
      "0     9400\n",
      "1    25500\n",
      "2     5500\n",
      "3     1500\n",
      "4    14900\n",
      "Name: price, dtype: int64 \n",
      "\n",
      "Data types:\n",
      "int64 \n",
      "\n",
      "Summary statistics:\n",
      "count     51525.000000\n",
      "mean      12132.464920\n",
      "std       10040.803015\n",
      "min           1.000000\n",
      "25%        5000.000000\n",
      "50%        9000.000000\n",
      "75%       16839.000000\n",
      "max      375000.000000\n",
      "Name: price, dtype: float64 \n",
      "\n",
      "Data Frame Info:\n",
      "<class 'pandas.core.series.Series'>\n",
      "RangeIndex: 51525 entries, 0 to 51524\n",
      "Series name: price\n",
      "Non-Null Count  Dtype\n",
      "--------------  -----\n",
      "51525 non-null  int64\n",
      "dtypes: int64(1)\n",
      "memory usage: 402.7 KB\n",
      "None \n",
      "\n",
      "Get 20 random rows:\n",
      "35887     4950\n",
      "29411    14500\n",
      "18534    38000\n",
      "18435     3250\n",
      "206      34900\n",
      "671      20995\n",
      "10686    18990\n",
      "1828     24995\n",
      "10750    11800\n",
      "29464     4995\n",
      "6633     23797\n",
      "41619        1\n",
      "3692      4000\n",
      "22308    13900\n",
      "16142    10990\n",
      "21383    11995\n",
      "989       6495\n",
      "10178    15990\n",
      "30152     3500\n",
      "34803     6500\n",
      "Name: price, dtype: int64 \n",
      "\n",
      "================================================== \n",
      "\n",
      "==================================================\n",
      "Exploring Column: \"model_year\"\n",
      "First few rows:\n",
      "0    2011.0\n",
      "1       NaN\n",
      "2    2013.0\n",
      "3    2003.0\n",
      "4    2017.0\n",
      "Name: model_year, dtype: float64 \n",
      "\n",
      "Data types:\n",
      "float64 \n",
      "\n",
      "Summary statistics:\n",
      "count    47906.000000\n",
      "mean      2009.750470\n",
      "std          6.282065\n",
      "min       1908.000000\n",
      "25%       2006.000000\n",
      "50%       2011.000000\n",
      "75%       2014.000000\n",
      "max       2019.000000\n",
      "Name: model_year, dtype: float64 \n",
      "\n",
      "Data Frame Info:\n",
      "<class 'pandas.core.series.Series'>\n",
      "RangeIndex: 51525 entries, 0 to 51524\n",
      "Series name: model_year\n",
      "Non-Null Count  Dtype  \n",
      "--------------  -----  \n",
      "47906 non-null  float64\n",
      "dtypes: float64(1)\n",
      "memory usage: 402.7 KB\n",
      "None \n",
      "\n",
      "Get 20 random rows:\n",
      "10305    2018.0\n",
      "26157    2005.0\n",
      "43951    2017.0\n",
      "4118     2018.0\n",
      "3159     2013.0\n",
      "14551    2011.0\n",
      "41830    2015.0\n",
      "237      2004.0\n",
      "19738    2015.0\n",
      "14162    2013.0\n",
      "29089    2012.0\n",
      "47004       NaN\n",
      "16754    2004.0\n",
      "23596    2000.0\n",
      "9770     2018.0\n",
      "46100       NaN\n",
      "30858    2006.0\n",
      "23013       NaN\n",
      "10837    2008.0\n",
      "39696    2015.0\n",
      "Name: model_year, dtype: float64 \n",
      "\n",
      "================================================== \n",
      "\n",
      "==================================================\n",
      "Exploring Column: \"model\"\n",
      "First few rows:\n",
      "0            bmw x5\n",
      "1        ford f-150\n",
      "2    hyundai sonata\n",
      "3        ford f-150\n",
      "4      chrysler 200\n",
      "Name: model, dtype: object \n",
      "\n",
      "Data types:\n",
      "object \n",
      "\n",
      "Summary statistics:\n",
      "count          51525\n",
      "unique           100\n",
      "top       ford f-150\n",
      "freq            2796\n",
      "Name: model, dtype: object \n",
      "\n",
      "Data Frame Info:\n",
      "<class 'pandas.core.series.Series'>\n",
      "RangeIndex: 51525 entries, 0 to 51524\n",
      "Series name: model\n",
      "Non-Null Count  Dtype \n",
      "--------------  ----- \n",
      "51525 non-null  object\n",
      "dtypes: object(1)\n",
      "memory usage: 402.7+ KB\n",
      "None \n",
      "\n",
      "Get 20 random rows:\n",
      "16636                         nissan versa\n",
      "22002    mercedes-benz benze sprinter 2500\n",
      "5862                         nissan sentra\n",
      "33223                         nissan versa\n",
      "27669                        ford f-350 sd\n",
      "36214           chevrolet silverado 2500hd\n",
      "44801                      hyundai elantra\n",
      "1929                           ford ranger\n",
      "3520                              ram 1500\n",
      "7999                         jeep wrangler\n",
      "13627           chevrolet silverado 2500hd\n",
      "4195                   dodge grand caravan\n",
      "3263                              ram 1500\n",
      "48580                  dodge grand caravan\n",
      "42274                         chrysler 200\n",
      "39266                           ford f-150\n",
      "5412                  ford f350 super duty\n",
      "26034                         honda accord\n",
      "20485                             ram 1500\n",
      "41513                          ford fusion\n",
      "Name: model, dtype: object \n",
      "\n",
      "================================================== \n",
      "\n",
      "==================================================\n",
      "Exploring Column: \"condition\"\n",
      "First few rows:\n",
      "0         good\n",
      "1         good\n",
      "2     like new\n",
      "3         fair\n",
      "4    excellent\n",
      "Name: condition, dtype: object \n",
      "\n",
      "Data types:\n",
      "object \n",
      "\n",
      "Summary statistics:\n",
      "count         51525\n",
      "unique            6\n",
      "top       excellent\n",
      "freq          24773\n",
      "Name: condition, dtype: object \n",
      "\n",
      "Data Frame Info:\n",
      "<class 'pandas.core.series.Series'>\n",
      "RangeIndex: 51525 entries, 0 to 51524\n",
      "Series name: condition\n",
      "Non-Null Count  Dtype \n",
      "--------------  ----- \n",
      "51525 non-null  object\n",
      "dtypes: object(1)\n",
      "memory usage: 402.7+ KB\n",
      "None \n",
      "\n",
      "Get 20 random rows:\n",
      "197      excellent\n",
      "25067         good\n",
      "4417     excellent\n",
      "17860    excellent\n",
      "37868    excellent\n",
      "35946         good\n",
      "21209         good\n",
      "49662    excellent\n",
      "32992    excellent\n",
      "21553         good\n",
      "24205     like new\n",
      "22453         good\n",
      "19146     like new\n",
      "23991    excellent\n",
      "19202         good\n",
      "37636    excellent\n",
      "40330    excellent\n",
      "8246          good\n",
      "40635    excellent\n",
      "13376    excellent\n",
      "Name: condition, dtype: object \n",
      "\n",
      "================================================== \n",
      "\n",
      "==================================================\n",
      "Exploring Column: \"cylinders\"\n",
      "First few rows:\n",
      "0    6.0\n",
      "1    6.0\n",
      "2    4.0\n",
      "3    8.0\n",
      "4    4.0\n",
      "Name: cylinders, dtype: float64 \n",
      "\n",
      "Data types:\n",
      "float64 \n",
      "\n",
      "Summary statistics:\n",
      "count    46265.000000\n",
      "mean         6.125235\n",
      "std          1.660360\n",
      "min          3.000000\n",
      "25%          4.000000\n",
      "50%          6.000000\n",
      "75%          8.000000\n",
      "max         12.000000\n",
      "Name: cylinders, dtype: float64 \n",
      "\n",
      "Data Frame Info:\n",
      "<class 'pandas.core.series.Series'>\n",
      "RangeIndex: 51525 entries, 0 to 51524\n",
      "Series name: cylinders\n",
      "Non-Null Count  Dtype  \n",
      "--------------  -----  \n",
      "46265 non-null  float64\n",
      "dtypes: float64(1)\n",
      "memory usage: 402.7 KB\n",
      "None \n",
      "\n",
      "Get 20 random rows:\n",
      "19876    8.0\n",
      "13710    8.0\n",
      "31845    8.0\n",
      "40990    NaN\n",
      "9541     4.0\n",
      "48677    8.0\n",
      "3150     6.0\n",
      "50847    4.0\n",
      "34710    4.0\n",
      "44168    NaN\n",
      "23586    4.0\n",
      "20073    4.0\n",
      "26328    4.0\n",
      "50985    6.0\n",
      "16128    8.0\n",
      "49262    4.0\n",
      "16156    NaN\n",
      "26718    8.0\n",
      "47887    6.0\n",
      "15893    8.0\n",
      "Name: cylinders, dtype: float64 \n",
      "\n",
      "================================================== \n",
      "\n",
      "==================================================\n",
      "Exploring Column: \"fuel\"\n",
      "First few rows:\n",
      "0    gas\n",
      "1    gas\n",
      "2    gas\n",
      "3    gas\n",
      "4    gas\n",
      "Name: fuel, dtype: object \n",
      "\n",
      "Data types:\n",
      "object \n",
      "\n",
      "Summary statistics:\n",
      "count     51525\n",
      "unique        5\n",
      "top         gas\n",
      "freq      47288\n",
      "Name: fuel, dtype: object \n",
      "\n",
      "Data Frame Info:\n",
      "<class 'pandas.core.series.Series'>\n",
      "RangeIndex: 51525 entries, 0 to 51524\n",
      "Series name: fuel\n",
      "Non-Null Count  Dtype \n",
      "--------------  ----- \n",
      "51525 non-null  object\n",
      "dtypes: object(1)\n",
      "memory usage: 402.7+ KB\n",
      "None \n",
      "\n",
      "Get 20 random rows:\n",
      "48795       gas\n",
      "37386       gas\n",
      "16060       gas\n",
      "48597       gas\n",
      "31874       gas\n",
      "41080       gas\n",
      "4309        gas\n",
      "12429       gas\n",
      "21605       gas\n",
      "35795       gas\n",
      "3016        gas\n",
      "37820       gas\n",
      "43545       gas\n",
      "5198     diesel\n",
      "41275       gas\n",
      "15127       gas\n",
      "49434       gas\n",
      "48159       gas\n",
      "22233       gas\n",
      "13341       gas\n",
      "Name: fuel, dtype: object \n",
      "\n",
      "================================================== \n",
      "\n",
      "==================================================\n",
      "Exploring Column: \"odometer\"\n",
      "First few rows:\n",
      "0    145000.0\n",
      "1     88705.0\n",
      "2    110000.0\n",
      "3         NaN\n",
      "4     80903.0\n",
      "Name: odometer, dtype: float64 \n",
      "\n",
      "Data types:\n",
      "float64 \n",
      "\n",
      "Summary statistics:\n",
      "count     43633.000000\n",
      "mean     115553.461738\n",
      "std       65094.611341\n",
      "min           0.000000\n",
      "25%       70000.000000\n",
      "50%      113000.000000\n",
      "75%      155000.000000\n",
      "max      990000.000000\n",
      "Name: odometer, dtype: float64 \n",
      "\n",
      "Data Frame Info:\n",
      "<class 'pandas.core.series.Series'>\n",
      "RangeIndex: 51525 entries, 0 to 51524\n",
      "Series name: odometer\n",
      "Non-Null Count  Dtype  \n",
      "--------------  -----  \n",
      "43633 non-null  float64\n",
      "dtypes: float64(1)\n",
      "memory usage: 402.7 KB\n",
      "None \n",
      "\n",
      "Get 20 random rows:\n",
      "6933     168000.0\n",
      "8516     132600.0\n",
      "41440    162206.0\n",
      "9659          NaN\n",
      "21441         NaN\n",
      "17075    161800.0\n",
      "46843     49596.0\n",
      "37014    241000.0\n",
      "33902     49208.0\n",
      "48706     75000.0\n",
      "19127    188000.0\n",
      "41275     79000.0\n",
      "37739    113000.0\n",
      "20562     60000.0\n",
      "50152    275000.0\n",
      "1489     156459.0\n",
      "10223    210000.0\n",
      "36269     50683.0\n",
      "44251     89500.0\n",
      "47783     82934.0\n",
      "Name: odometer, dtype: float64 \n",
      "\n",
      "================================================== \n",
      "\n",
      "==================================================\n",
      "Exploring Column: \"transmission\"\n",
      "First few rows:\n",
      "0    automatic\n",
      "1    automatic\n",
      "2    automatic\n",
      "3    automatic\n",
      "4    automatic\n",
      "Name: transmission, dtype: object \n",
      "\n",
      "Data types:\n",
      "object \n",
      "\n",
      "Summary statistics:\n",
      "count         51525\n",
      "unique            3\n",
      "top       automatic\n",
      "freq          46902\n",
      "Name: transmission, dtype: object \n",
      "\n",
      "Data Frame Info:\n",
      "<class 'pandas.core.series.Series'>\n",
      "RangeIndex: 51525 entries, 0 to 51524\n",
      "Series name: transmission\n",
      "Non-Null Count  Dtype \n",
      "--------------  ----- \n",
      "51525 non-null  object\n",
      "dtypes: object(1)\n",
      "memory usage: 402.7+ KB\n",
      "None \n",
      "\n",
      "Get 20 random rows:\n",
      "1930     automatic\n",
      "5163     automatic\n",
      "39859    automatic\n",
      "25729    automatic\n",
      "3136     automatic\n",
      "28285       manual\n",
      "17198    automatic\n",
      "50344    automatic\n",
      "2257     automatic\n",
      "14252        other\n",
      "49103    automatic\n",
      "32393    automatic\n",
      "6814     automatic\n",
      "18377    automatic\n",
      "25412    automatic\n",
      "43007    automatic\n",
      "41402       manual\n",
      "24215    automatic\n",
      "49344    automatic\n",
      "18508    automatic\n",
      "Name: transmission, dtype: object \n",
      "\n",
      "================================================== \n",
      "\n",
      "==================================================\n",
      "Exploring Column: \"type\"\n",
      "First few rows:\n",
      "0       SUV\n",
      "1    pickup\n",
      "2     sedan\n",
      "3    pickup\n",
      "4     sedan\n",
      "Name: type, dtype: object \n",
      "\n",
      "Data types:\n",
      "object \n",
      "\n",
      "Summary statistics:\n",
      "count     51525\n",
      "unique       13\n",
      "top         SUV\n",
      "freq      12405\n",
      "Name: type, dtype: object \n",
      "\n",
      "Data Frame Info:\n",
      "<class 'pandas.core.series.Series'>\n",
      "RangeIndex: 51525 entries, 0 to 51524\n",
      "Series name: type\n",
      "Non-Null Count  Dtype \n",
      "--------------  ----- \n",
      "51525 non-null  object\n",
      "dtypes: object(1)\n",
      "memory usage: 402.7+ KB\n",
      "None \n",
      "\n",
      "Get 20 random rows:\n",
      "47937        sedan\n",
      "35519        truck\n",
      "30713        truck\n",
      "2752           SUV\n",
      "37801        truck\n",
      "16068        coupe\n",
      "9149         coupe\n",
      "37553        truck\n",
      "25676       pickup\n",
      "33874        sedan\n",
      "3909           SUV\n",
      "40070        sedan\n",
      "47212    hatchback\n",
      "1142        pickup\n",
      "8375         truck\n",
      "7713        pickup\n",
      "29769        sedan\n",
      "14094          SUV\n",
      "28501          SUV\n",
      "19012          SUV\n",
      "Name: type, dtype: object \n",
      "\n",
      "================================================== \n",
      "\n",
      "==================================================\n",
      "Exploring Column: \"paint_color\"\n",
      "First few rows:\n",
      "0      NaN\n",
      "1    white\n",
      "2      red\n",
      "3      NaN\n",
      "4    black\n",
      "Name: paint_color, dtype: object \n",
      "\n",
      "Data types:\n",
      "object \n",
      "\n",
      "Summary statistics:\n",
      "count     42258\n",
      "unique       12\n",
      "top       white\n",
      "freq      10029\n",
      "Name: paint_color, dtype: object \n",
      "\n",
      "Data Frame Info:\n",
      "<class 'pandas.core.series.Series'>\n",
      "RangeIndex: 51525 entries, 0 to 51524\n",
      "Series name: paint_color\n",
      "Non-Null Count  Dtype \n",
      "--------------  ----- \n",
      "42258 non-null  object\n",
      "dtypes: object(1)\n",
      "memory usage: 402.7+ KB\n",
      "None \n",
      "\n",
      "Get 20 random rows:\n",
      "6121        NaN\n",
      "44618     green\n",
      "33195       NaN\n",
      "15770       NaN\n",
      "28769     brown\n",
      "24302     black\n",
      "43948     black\n",
      "3184        NaN\n",
      "25424     black\n",
      "47156       NaN\n",
      "36518     black\n",
      "37255     black\n",
      "27890     black\n",
      "43658     white\n",
      "49812    silver\n",
      "29449    silver\n",
      "42969       NaN\n",
      "36220      blue\n",
      "11666    custom\n",
      "11663     black\n",
      "Name: paint_color, dtype: object \n",
      "\n",
      "================================================== \n",
      "\n",
      "==================================================\n",
      "Exploring Column: \"is_4wd\"\n",
      "First few rows:\n",
      "0    1.0\n",
      "1    1.0\n",
      "2    NaN\n",
      "3    NaN\n",
      "4    NaN\n",
      "Name: is_4wd, dtype: float64 \n",
      "\n",
      "Data types:\n",
      "float64 \n",
      "\n",
      "Summary statistics:\n",
      "count    25572.0\n",
      "mean         1.0\n",
      "std          0.0\n",
      "min          1.0\n",
      "25%          1.0\n",
      "50%          1.0\n",
      "75%          1.0\n",
      "max          1.0\n",
      "Name: is_4wd, dtype: float64 \n",
      "\n",
      "Data Frame Info:\n",
      "<class 'pandas.core.series.Series'>\n",
      "RangeIndex: 51525 entries, 0 to 51524\n",
      "Series name: is_4wd\n",
      "Non-Null Count  Dtype  \n",
      "--------------  -----  \n",
      "25572 non-null  float64\n",
      "dtypes: float64(1)\n",
      "memory usage: 402.7 KB\n",
      "None \n",
      "\n",
      "Get 20 random rows:\n",
      "46205    NaN\n",
      "24578    NaN\n",
      "16473    NaN\n",
      "46231    NaN\n",
      "10331    1.0\n",
      "49688    NaN\n",
      "17830    NaN\n",
      "26084    1.0\n",
      "46091    1.0\n",
      "21649    1.0\n",
      "28286    1.0\n",
      "8427     1.0\n",
      "48544    NaN\n",
      "8408     NaN\n",
      "24188    1.0\n",
      "22658    NaN\n",
      "30560    NaN\n",
      "42460    NaN\n",
      "8153     1.0\n",
      "47635    1.0\n",
      "Name: is_4wd, dtype: float64 \n",
      "\n",
      "================================================== \n",
      "\n",
      "==================================================\n",
      "Exploring Column: \"date_posted\"\n",
      "First few rows:\n",
      "0    2018-06-23\n",
      "1    2018-10-19\n",
      "2    2019-02-07\n",
      "3    2019-03-22\n",
      "4    2019-04-02\n",
      "Name: date_posted, dtype: object \n",
      "\n",
      "Data types:\n",
      "object \n",
      "\n",
      "Summary statistics:\n",
      "count          51525\n",
      "unique           354\n",
      "top       2019-03-17\n",
      "freq             186\n",
      "Name: date_posted, dtype: object \n",
      "\n",
      "Data Frame Info:\n",
      "<class 'pandas.core.series.Series'>\n",
      "RangeIndex: 51525 entries, 0 to 51524\n",
      "Series name: date_posted\n",
      "Non-Null Count  Dtype \n",
      "--------------  ----- \n",
      "51525 non-null  object\n",
      "dtypes: object(1)\n",
      "memory usage: 402.7+ KB\n",
      "None \n",
      "\n",
      "Get 20 random rows:\n",
      "9689     2019-02-27\n",
      "42732    2019-01-21\n",
      "25736    2018-08-01\n",
      "41856    2018-12-22\n",
      "641      2019-01-03\n",
      "804      2018-10-09\n",
      "31189    2018-07-01\n",
      "32687    2018-09-17\n",
      "9192     2018-08-11\n",
      "9583     2019-01-22\n",
      "16826    2018-12-23\n",
      "5410     2019-01-26\n",
      "12015    2018-09-25\n",
      "26243    2018-12-31\n",
      "34568    2018-12-30\n",
      "38301    2018-10-10\n",
      "39357    2019-01-01\n",
      "27705    2018-05-13\n",
      "24572    2018-10-05\n",
      "8787     2019-02-21\n",
      "Name: date_posted, dtype: object \n",
      "\n",
      "================================================== \n",
      "\n",
      "==================================================\n",
      "Exploring Column: \"days_listed\"\n",
      "First few rows:\n",
      "0    19\n",
      "1    50\n",
      "2    79\n",
      "3     9\n",
      "4    28\n",
      "Name: days_listed, dtype: int64 \n",
      "\n",
      "Data types:\n",
      "int64 \n",
      "\n",
      "Summary statistics:\n",
      "count    51525.00000\n",
      "mean        39.55476\n",
      "std         28.20427\n",
      "min          0.00000\n",
      "25%         19.00000\n",
      "50%         33.00000\n",
      "75%         53.00000\n",
      "max        271.00000\n",
      "Name: days_listed, dtype: float64 \n",
      "\n",
      "Data Frame Info:\n",
      "<class 'pandas.core.series.Series'>\n",
      "RangeIndex: 51525 entries, 0 to 51524\n",
      "Series name: days_listed\n",
      "Non-Null Count  Dtype\n",
      "--------------  -----\n",
      "51525 non-null  int64\n",
      "dtypes: int64(1)\n",
      "memory usage: 402.7 KB\n",
      "None \n",
      "\n",
      "Get 20 random rows:\n",
      "2243      58\n",
      "45177     43\n",
      "16045     15\n",
      "41237     18\n",
      "9010      90\n",
      "45187     10\n",
      "14729     87\n",
      "50898     18\n",
      "26757     23\n",
      "50055     12\n",
      "5353     130\n",
      "38745     50\n",
      "22592     46\n",
      "13867     32\n",
      "47500     23\n",
      "37517     43\n",
      "32158     17\n",
      "29260     36\n",
      "3980      11\n",
      "30437     17\n",
      "Name: days_listed, dtype: int64 \n",
      "\n",
      "================================================== \n",
      "\n"
     ]
    }
   ],
   "source": [
    "def explore_df(df, name):\n",
    "    print(\"=\"*50)\n",
    "    print(f\"Exploring Column: \\\"{name}\\\"\")\n",
    "    print(\"First few rows:\")\n",
    "    print(df.head(), \"\\n\")\n",
    "    print(\"Data types:\")\n",
    "    print(df.dtypes, \"\\n\")\n",
    "    print(\"Summary statistics:\")\n",
    "    print(df.describe(include='all'), \"\\n\")\n",
    "    print(\"Data Frame Info:\")\n",
    "    print(df.info(), \"\\n\")\n",
    "    print(\"Get 20 random rows:\")\n",
    "    print(df.sample(n=20), \"\\n\")\n",
    "    print(\"=\"*50, \"\\n\")\n",
    "\n",
    "df.info()\n",
    "\n",
    "for col in df:\n",
    "    explore_df(df[col],col)\n",
    "\n"
   ]
  },
  {
   "cell_type": "markdown",
   "metadata": {},
   "source": [
    "# Correct datatypes\n",
    "\n",
    "0   price         51525 non-null  int64    #Should be float?\n",
    "1   model_year    47906 non-null  float64  #Should be int\n",
    "2   model         51525 non-null  object \n",
    "3   condition     51525 non-null  object   \n",
    "4   cylinders     46265 non-null  float64  #Should be int, missing data\n",
    "5   fuel          51525 non-null  object \n",
    "6   odometer      43633 non-null  float64  #missing data\n",
    "7   transmission  51525 non-null  object\n",
    "8   type          51525 non-null  object \n",
    "9   paint_color   42258 non-null  object   #missing data\n",
    "10  is_4wd        25572 non-null  float64  #Should be boolean, not binary, not float\n",
    "11  date_posted   51525 non-null  object   #Should be datetype\n",
    "12  days_listed   51525 non-null  int64 "
   ]
  },
  {
   "cell_type": "code",
   "execution_count": 6,
   "metadata": {},
   "outputs": [
    {
     "name": "stdout",
     "output_type": "stream",
     "text": [
      "<class 'pandas.core.frame.DataFrame'>\n",
      "RangeIndex: 51525 entries, 0 to 51524\n",
      "Data columns (total 13 columns):\n",
      " #   Column        Non-Null Count  Dtype         \n",
      "---  ------        --------------  -----         \n",
      " 0   price         51525 non-null  float64       \n",
      " 1   model_year    47906 non-null  float64       \n",
      " 2   model         51525 non-null  object        \n",
      " 3   condition     51525 non-null  object        \n",
      " 4   cylinders     46265 non-null  float64       \n",
      " 5   fuel          51525 non-null  object        \n",
      " 6   odometer      43633 non-null  float64       \n",
      " 7   transmission  51525 non-null  object        \n",
      " 8   type          51525 non-null  object        \n",
      " 9   paint_color   42258 non-null  object        \n",
      " 10  is_4wd        25572 non-null  object        \n",
      " 11  date_posted   51525 non-null  datetime64[ns]\n",
      " 12  days_listed   51525 non-null  int64         \n",
      "dtypes: datetime64[ns](1), float64(4), int64(1), object(7)\n",
      "memory usage: 5.1+ MB\n",
      "First few rows:\n",
      "      price  model_year                              model  condition  \\\n",
      "0    9400.0      2011.0                             bmw x5       good   \n",
      "1   25500.0         NaN                         ford f-150       good   \n",
      "2    5500.0      2013.0                     hyundai sonata   like new   \n",
      "3    1500.0      2003.0                         ford f-150       fair   \n",
      "4   14900.0      2017.0                       chrysler 200  excellent   \n",
      "5   14990.0      2014.0                       chrysler 300  excellent   \n",
      "6   12990.0      2015.0                       toyota camry  excellent   \n",
      "7   15990.0      2013.0                        honda pilot  excellent   \n",
      "8   11500.0      2012.0                        kia sorento  excellent   \n",
      "9    9200.0      2008.0                        honda pilot  excellent   \n",
      "10  19500.0      2011.0           chevrolet silverado 1500  excellent   \n",
      "11   8990.0      2012.0                       honda accord  excellent   \n",
      "12  18990.0      2012.0                           ram 1500  excellent   \n",
      "13  16500.0      2018.0                     hyundai sonata  excellent   \n",
      "14  12990.0      2009.0                          gmc yukon  excellent   \n",
      "15  17990.0      2013.0                           ram 1500  excellent   \n",
      "16  14990.0      2010.0                           ram 1500  excellent   \n",
      "17  13990.0      2014.0                      jeep cherokee  excellent   \n",
      "18  12500.0      2013.0                 chevrolet traverse  excellent   \n",
      "19  13990.0      2018.0                    hyundai elantra  excellent   \n",
      "20   6990.0         NaN                    chevrolet tahoe  excellent   \n",
      "21   5250.0      2007.0                        toyota rav4       good   \n",
      "22   7500.0      2004.0                chevrolet silverado   like new   \n",
      "23   7500.0      2004.0                      jeep wrangler       good   \n",
      "24   3950.0      2009.0                       chrysler 200  excellent   \n",
      "25  11499.0      2017.0                   chevrolet malibu   like new   \n",
      "26   8499.0      2014.0                     ford fusion se   like new   \n",
      "27  12999.0      2015.0                   chevrolet impala   like new   \n",
      "28  29800.0      2012.0                 chevrolet corvette  excellent   \n",
      "29   5495.0      2010.0                   chevrolet impala  excellent   \n",
      "30   5000.0      2009.0                       jeep liberty       good   \n",
      "31  11999.0      2017.0                    toyota camry le  excellent   \n",
      "32   9499.0      2015.0                      nissan altima   like new   \n",
      "33   3890.0      2011.0                     subaru outback  excellent   \n",
      "34   9500.0      2008.0                  toyota highlander       good   \n",
      "35  14999.0      2015.0                      dodge charger       good   \n",
      "36  10499.0      2013.0                       chrysler 300       good   \n",
      "37   7500.0      2005.0                      toyota tacoma       good   \n",
      "38   7999.0      2015.0                       chrysler 200       good   \n",
      "39   8000.0      2009.0                         ford f-150       good   \n",
      "40  11499.0      2017.0                  chevrolet equinox   like new   \n",
      "41  11995.0      2017.0                       nissan rogue   like new   \n",
      "42  34900.0      2013.0  mercedes-benz benze sprinter 2500  excellent   \n",
      "43   5100.0      2008.0                         honda cr-v  excellent   \n",
      "44   4500.0      2004.0                jeep grand cherokee       good   \n",
      "45   2400.0      2001.0                       toyota camry       good   \n",
      "46  11200.0      2015.0                      dodge charger  excellent   \n",
      "47  12500.0      2008.0                     toyota 4runner       good   \n",
      "48   9500.0      2014.0                         ford focus  excellent   \n",
      "49   3200.0      2006.0                        honda civic  excellent   \n",
      "\n",
      "    cylinders    fuel  odometer transmission    type paint_color is_4wd  \\\n",
      "0         6.0     gas  145000.0    automatic     SUV         NaN   True   \n",
      "1         6.0     gas   88705.0    automatic  pickup       white   True   \n",
      "2         4.0     gas  110000.0    automatic   sedan         red    NaN   \n",
      "3         8.0     gas       NaN    automatic  pickup         NaN    NaN   \n",
      "4         4.0     gas   80903.0    automatic   sedan       black    NaN   \n",
      "5         6.0     gas   57954.0    automatic   sedan       black   True   \n",
      "6         4.0     gas   79212.0    automatic   sedan       white    NaN   \n",
      "7         6.0     gas  109473.0    automatic     SUV       black   True   \n",
      "8         4.0     gas  104174.0    automatic     SUV         NaN   True   \n",
      "9         NaN     gas  147191.0    automatic     SUV        blue   True   \n",
      "10        8.0     gas  128413.0    automatic  pickup       black   True   \n",
      "11        4.0     gas  111142.0    automatic   sedan        grey    NaN   \n",
      "12        8.0     gas  140742.0    automatic  pickup         NaN   True   \n",
      "13        4.0     gas   22104.0    automatic   sedan      silver    NaN   \n",
      "14        8.0     gas  132285.0    automatic     SUV       black   True   \n",
      "15        8.0     gas       NaN    automatic  pickup         red   True   \n",
      "16        8.0     gas  130725.0    automatic  pickup         red   True   \n",
      "17        6.0     gas  100669.0    automatic     SUV         red   True   \n",
      "18        6.0     gas  128325.0    automatic     SUV       white   True   \n",
      "19        4.0     gas   31932.0    automatic   sedan         red    NaN   \n",
      "20        8.0     gas  147485.0    automatic     SUV      silver   True   \n",
      "21        6.0     gas  154000.0    automatic     SUV         NaN    NaN   \n",
      "22        8.0     gas  180000.0    automatic   truck         red   True   \n",
      "23        6.0     gas       NaN    automatic     SUV         red   True   \n",
      "24        4.0     gas       NaN    automatic   sedan         red    NaN   \n",
      "25        4.0     gas       NaN    automatic   sedan         NaN    NaN   \n",
      "26        4.0     gas   79523.0    automatic   sedan         red    NaN   \n",
      "27        6.0     gas   39368.0    automatic   sedan      custom    NaN   \n",
      "28        8.0     gas   57413.0    automatic   coupe      orange    NaN   \n",
      "29        6.0     gas       NaN    automatic   sedan       white    NaN   \n",
      "30        6.0     gas  137273.0    automatic     SUV       white   True   \n",
      "31        4.0     gas   35721.0    automatic   sedan         NaN    NaN   \n",
      "32        4.0     gas   51848.0    automatic   sedan        grey    NaN   \n",
      "33        4.0     gas  300000.0    automatic     SUV       white   True   \n",
      "34        6.0     gas  149799.0    automatic     SUV         NaN    NaN   \n",
      "35        6.0     gas   63037.0    automatic   sedan         NaN    NaN   \n",
      "36        NaN     gas   88042.0    automatic   sedan         NaN    NaN   \n",
      "37        NaN     gas  160000.0    automatic  pickup         NaN    NaN   \n",
      "38        4.0     gas       NaN    automatic   sedan         NaN    NaN   \n",
      "39        8.0     gas  234000.0    automatic   truck       black   True   \n",
      "40        4.0     gas   54772.0    automatic     SUV        grey   True   \n",
      "41        4.0     gas       NaN    automatic     SUV      silver   True   \n",
      "42        6.0  diesel       NaN    automatic     van       black    NaN   \n",
      "43        4.0     gas  188000.0    automatic     SUV         red   True   \n",
      "44        6.0     gas  168821.0    automatic     SUV         NaN   True   \n",
      "45        4.0     gas  277564.0    automatic   coupe      yellow    NaN   \n",
      "46        6.0     gas   90302.0    automatic   sedan       black   True   \n",
      "47        6.0     gas  141098.0    automatic     SUV        grey    NaN   \n",
      "48        4.0  diesel   46000.0    automatic   sedan         NaN    NaN   \n",
      "49        4.0     gas  255390.0    automatic   sedan        blue    NaN   \n",
      "\n",
      "   date_posted  days_listed  \n",
      "0   2018-06-23           19  \n",
      "1   2018-10-19           50  \n",
      "2   2019-02-07           79  \n",
      "3   2019-03-22            9  \n",
      "4   2019-04-02           28  \n",
      "5   2018-06-20           15  \n",
      "6   2018-12-27           73  \n",
      "7   2019-01-07           68  \n",
      "8   2018-07-16           19  \n",
      "9   2019-02-15           17  \n",
      "10  2018-09-17           38  \n",
      "11  2019-03-28           29  \n",
      "12  2019-04-02           37  \n",
      "13  2019-01-14           29  \n",
      "14  2019-01-31           24  \n",
      "15  2018-05-15          111  \n",
      "16  2018-12-30           13  \n",
      "17  2018-08-16           25  \n",
      "18  2019-04-09           13  \n",
      "19  2018-08-25           27  \n",
      "20  2018-08-05           28  \n",
      "21  2018-08-22            8  \n",
      "22  2019-01-05           64  \n",
      "23  2018-05-17           39  \n",
      "24  2018-06-11           40  \n",
      "25  2018-07-26           43  \n",
      "26  2018-10-25           23  \n",
      "27  2018-05-19           42  \n",
      "28  2018-10-22          101  \n",
      "29  2019-02-18           20  \n",
      "30  2019-02-19           14  \n",
      "31  2018-09-13           25  \n",
      "32  2018-11-12            7  \n",
      "33  2018-12-25           31  \n",
      "34  2018-06-04          121  \n",
      "35  2018-05-11           37  \n",
      "36  2018-05-05           22  \n",
      "37  2018-07-22           44  \n",
      "38  2019-03-08           29  \n",
      "39  2019-03-31            1  \n",
      "40  2019-01-12           36  \n",
      "41  2018-09-20           21  \n",
      "42  2019-01-15           16  \n",
      "43  2018-11-18           10  \n",
      "44  2019-01-31           60  \n",
      "45  2018-05-27           51  \n",
      "46  2018-07-19           73  \n",
      "47  2019-03-10           35  \n",
      "48  2018-10-09           24  \n",
      "49  2018-10-18           23   \n",
      "\n"
     ]
    }
   ],
   "source": [
    "\n",
    "\n",
    "def dataprep(df):\n",
    "    \"\"\"\n",
    "    Cleans and converts columns in the DataFrame to the desired data types and drops rows with missing data.\n",
    "\n",
    "    Parameters:\n",
    "    df (pd.DataFrame): The input DataFrame.\n",
    "\n",
    "    Returns:\n",
    "    pd.DataFrame: The cleaned and converted DataFrame.\n",
    "    \"\"\"\n",
    "    # Drop rows with missing data\n",
    "    #df = df.dropna()\n",
    "\n",
    "    #conversions datatype\n",
    "    # Convert 'price' to float\n",
    "    df['price'] = df['price'].astype('float64')\n",
    "\n",
    "    # Convert 'model_year' to int, skipping NaN values\n",
    "    df['model_year'] = df['model_year'].apply(lambda x: int(x) if not pd.isna(x) else np.nan)\n",
    "    \n",
    "    # Convert 'cylinders' to int, skipping NaN values\n",
    "    df['cylinders'] = df['cylinders'].apply(lambda x: int(x) if not pd.isna(x) else np.nan)\n",
    "\n",
    "    # Convert 'is_4wd' to boolean, skipping NaN values\n",
    "    df['is_4wd'] = df['is_4wd'].map({1.0: True, 0.0: False})\n",
    "\n",
    "    # Convert 'date_posted' to datetime\n",
    "    df['date_posted'] = pd.to_datetime(df['date_posted']).dt.floor('D')\n",
    "    \n",
    "    \n",
    "    \n",
    "    return df\n",
    "\n",
    "df_clean = dataprep(df)\n",
    "\n",
    "df_clean.info()\n",
    "print(\"First few rows:\")\n",
    "print(df_clean.head(n=50), \"\\n\")\n"
   ]
  },
  {
   "cell_type": "markdown",
   "metadata": {},
   "source": [
    "# What do we see?\n",
    "I'm imagining the type of company similar to CoPart. I twould be useful to make it modular so the user is able to perform simple data visualization by taking in filters.\n",
    "\n",
    "- What is the most popular car?\n",
    "    + Frequency in dataset using:\n",
    "        = Model / Yr\n",
    "        = condition\n",
    "        = type\n",
    "        = color\n",
    "\n",
    "- Which inventory is not going to sell?\n",
    "    + Model / days listed\n",
    "\n",
    "- Market trends ? -  Is it true that average car prices rose during the pandemic?\n",
    "    + Normalize data for each year surrounding COVID19 event by model\n",
    "    "
   ]
  },
  {
   "cell_type": "code",
   "execution_count": 7,
   "metadata": {},
   "outputs": [
    {
     "data": {
      "application/vnd.plotly.v1+json": {
       "config": {
        "plotlyServerURL": "https://plot.ly"
       },
       "data": [
        {
         "alignmentgroup": "True",
         "hovertemplate": "model=%{x}<br>price=%{y}<extra></extra>",
         "legendgroup": "",
         "marker": {
          "color": "rgb(102, 197, 204)",
          "pattern": {
           "shape": ""
          }
         },
         "name": "",
         "offsetgroup": "",
         "orientation": "v",
         "showlegend": false,
         "textposition": "auto",
         "type": "bar",
         "x": [
          "bmw x5",
          "ford f-150"
         ],
         "xaxis": "x",
         "y": [
          16385,
          3446720
         ],
         "yaxis": "y"
        }
       ],
       "layout": {
        "annotations": [
         {
          "align": "left",
          "bordercolor": "black",
          "borderwidth": 1,
          "showarrow": false,
          "text": "model_year: [2013, 2014]<br>condition: ['good']<br>fuel: ['gas']<br>models: ['bmw x5', 'ford f-150']",
          "x": 1.05,
          "xref": "paper",
          "y": 1,
          "yref": "paper"
         }
        ],
        "barmode": "relative",
        "legend": {
         "tracegroupgap": 0
        },
        "template": {
         "data": {
          "bar": [
           {
            "error_x": {
             "color": "#2a3f5f"
            },
            "error_y": {
             "color": "#2a3f5f"
            },
            "marker": {
             "line": {
              "color": "white",
              "width": 0.5
             },
             "pattern": {
              "fillmode": "overlay",
              "size": 10,
              "solidity": 0.2
             }
            },
            "type": "bar"
           }
          ],
          "barpolar": [
           {
            "marker": {
             "line": {
              "color": "white",
              "width": 0.5
             },
             "pattern": {
              "fillmode": "overlay",
              "size": 10,
              "solidity": 0.2
             }
            },
            "type": "barpolar"
           }
          ],
          "carpet": [
           {
            "aaxis": {
             "endlinecolor": "#2a3f5f",
             "gridcolor": "#C8D4E3",
             "linecolor": "#C8D4E3",
             "minorgridcolor": "#C8D4E3",
             "startlinecolor": "#2a3f5f"
            },
            "baxis": {
             "endlinecolor": "#2a3f5f",
             "gridcolor": "#C8D4E3",
             "linecolor": "#C8D4E3",
             "minorgridcolor": "#C8D4E3",
             "startlinecolor": "#2a3f5f"
            },
            "type": "carpet"
           }
          ],
          "choropleth": [
           {
            "colorbar": {
             "outlinewidth": 0,
             "ticks": ""
            },
            "type": "choropleth"
           }
          ],
          "contour": [
           {
            "colorbar": {
             "outlinewidth": 0,
             "ticks": ""
            },
            "colorscale": [
             [
              0,
              "#0d0887"
             ],
             [
              0.1111111111111111,
              "#46039f"
             ],
             [
              0.2222222222222222,
              "#7201a8"
             ],
             [
              0.3333333333333333,
              "#9c179e"
             ],
             [
              0.4444444444444444,
              "#bd3786"
             ],
             [
              0.5555555555555556,
              "#d8576b"
             ],
             [
              0.6666666666666666,
              "#ed7953"
             ],
             [
              0.7777777777777778,
              "#fb9f3a"
             ],
             [
              0.8888888888888888,
              "#fdca26"
             ],
             [
              1,
              "#f0f921"
             ]
            ],
            "type": "contour"
           }
          ],
          "contourcarpet": [
           {
            "colorbar": {
             "outlinewidth": 0,
             "ticks": ""
            },
            "type": "contourcarpet"
           }
          ],
          "heatmap": [
           {
            "colorbar": {
             "outlinewidth": 0,
             "ticks": ""
            },
            "colorscale": [
             [
              0,
              "#0d0887"
             ],
             [
              0.1111111111111111,
              "#46039f"
             ],
             [
              0.2222222222222222,
              "#7201a8"
             ],
             [
              0.3333333333333333,
              "#9c179e"
             ],
             [
              0.4444444444444444,
              "#bd3786"
             ],
             [
              0.5555555555555556,
              "#d8576b"
             ],
             [
              0.6666666666666666,
              "#ed7953"
             ],
             [
              0.7777777777777778,
              "#fb9f3a"
             ],
             [
              0.8888888888888888,
              "#fdca26"
             ],
             [
              1,
              "#f0f921"
             ]
            ],
            "type": "heatmap"
           }
          ],
          "heatmapgl": [
           {
            "colorbar": {
             "outlinewidth": 0,
             "ticks": ""
            },
            "colorscale": [
             [
              0,
              "#0d0887"
             ],
             [
              0.1111111111111111,
              "#46039f"
             ],
             [
              0.2222222222222222,
              "#7201a8"
             ],
             [
              0.3333333333333333,
              "#9c179e"
             ],
             [
              0.4444444444444444,
              "#bd3786"
             ],
             [
              0.5555555555555556,
              "#d8576b"
             ],
             [
              0.6666666666666666,
              "#ed7953"
             ],
             [
              0.7777777777777778,
              "#fb9f3a"
             ],
             [
              0.8888888888888888,
              "#fdca26"
             ],
             [
              1,
              "#f0f921"
             ]
            ],
            "type": "heatmapgl"
           }
          ],
          "histogram": [
           {
            "marker": {
             "pattern": {
              "fillmode": "overlay",
              "size": 10,
              "solidity": 0.2
             }
            },
            "type": "histogram"
           }
          ],
          "histogram2d": [
           {
            "colorbar": {
             "outlinewidth": 0,
             "ticks": ""
            },
            "colorscale": [
             [
              0,
              "#0d0887"
             ],
             [
              0.1111111111111111,
              "#46039f"
             ],
             [
              0.2222222222222222,
              "#7201a8"
             ],
             [
              0.3333333333333333,
              "#9c179e"
             ],
             [
              0.4444444444444444,
              "#bd3786"
             ],
             [
              0.5555555555555556,
              "#d8576b"
             ],
             [
              0.6666666666666666,
              "#ed7953"
             ],
             [
              0.7777777777777778,
              "#fb9f3a"
             ],
             [
              0.8888888888888888,
              "#fdca26"
             ],
             [
              1,
              "#f0f921"
             ]
            ],
            "type": "histogram2d"
           }
          ],
          "histogram2dcontour": [
           {
            "colorbar": {
             "outlinewidth": 0,
             "ticks": ""
            },
            "colorscale": [
             [
              0,
              "#0d0887"
             ],
             [
              0.1111111111111111,
              "#46039f"
             ],
             [
              0.2222222222222222,
              "#7201a8"
             ],
             [
              0.3333333333333333,
              "#9c179e"
             ],
             [
              0.4444444444444444,
              "#bd3786"
             ],
             [
              0.5555555555555556,
              "#d8576b"
             ],
             [
              0.6666666666666666,
              "#ed7953"
             ],
             [
              0.7777777777777778,
              "#fb9f3a"
             ],
             [
              0.8888888888888888,
              "#fdca26"
             ],
             [
              1,
              "#f0f921"
             ]
            ],
            "type": "histogram2dcontour"
           }
          ],
          "mesh3d": [
           {
            "colorbar": {
             "outlinewidth": 0,
             "ticks": ""
            },
            "type": "mesh3d"
           }
          ],
          "parcoords": [
           {
            "line": {
             "colorbar": {
              "outlinewidth": 0,
              "ticks": ""
             }
            },
            "type": "parcoords"
           }
          ],
          "pie": [
           {
            "automargin": true,
            "type": "pie"
           }
          ],
          "scatter": [
           {
            "fillpattern": {
             "fillmode": "overlay",
             "size": 10,
             "solidity": 0.2
            },
            "type": "scatter"
           }
          ],
          "scatter3d": [
           {
            "line": {
             "colorbar": {
              "outlinewidth": 0,
              "ticks": ""
             }
            },
            "marker": {
             "colorbar": {
              "outlinewidth": 0,
              "ticks": ""
             }
            },
            "type": "scatter3d"
           }
          ],
          "scattercarpet": [
           {
            "marker": {
             "colorbar": {
              "outlinewidth": 0,
              "ticks": ""
             }
            },
            "type": "scattercarpet"
           }
          ],
          "scattergeo": [
           {
            "marker": {
             "colorbar": {
              "outlinewidth": 0,
              "ticks": ""
             }
            },
            "type": "scattergeo"
           }
          ],
          "scattergl": [
           {
            "marker": {
             "colorbar": {
              "outlinewidth": 0,
              "ticks": ""
             }
            },
            "type": "scattergl"
           }
          ],
          "scattermapbox": [
           {
            "marker": {
             "colorbar": {
              "outlinewidth": 0,
              "ticks": ""
             }
            },
            "type": "scattermapbox"
           }
          ],
          "scatterpolar": [
           {
            "marker": {
             "colorbar": {
              "outlinewidth": 0,
              "ticks": ""
             }
            },
            "type": "scatterpolar"
           }
          ],
          "scatterpolargl": [
           {
            "marker": {
             "colorbar": {
              "outlinewidth": 0,
              "ticks": ""
             }
            },
            "type": "scatterpolargl"
           }
          ],
          "scatterternary": [
           {
            "marker": {
             "colorbar": {
              "outlinewidth": 0,
              "ticks": ""
             }
            },
            "type": "scatterternary"
           }
          ],
          "surface": [
           {
            "colorbar": {
             "outlinewidth": 0,
             "ticks": ""
            },
            "colorscale": [
             [
              0,
              "#0d0887"
             ],
             [
              0.1111111111111111,
              "#46039f"
             ],
             [
              0.2222222222222222,
              "#7201a8"
             ],
             [
              0.3333333333333333,
              "#9c179e"
             ],
             [
              0.4444444444444444,
              "#bd3786"
             ],
             [
              0.5555555555555556,
              "#d8576b"
             ],
             [
              0.6666666666666666,
              "#ed7953"
             ],
             [
              0.7777777777777778,
              "#fb9f3a"
             ],
             [
              0.8888888888888888,
              "#fdca26"
             ],
             [
              1,
              "#f0f921"
             ]
            ],
            "type": "surface"
           }
          ],
          "table": [
           {
            "cells": {
             "fill": {
              "color": "#EBF0F8"
             },
             "line": {
              "color": "white"
             }
            },
            "header": {
             "fill": {
              "color": "#C8D4E3"
             },
             "line": {
              "color": "white"
             }
            },
            "type": "table"
           }
          ]
         },
         "layout": {
          "annotationdefaults": {
           "arrowcolor": "#2a3f5f",
           "arrowhead": 0,
           "arrowwidth": 1
          },
          "autotypenumbers": "strict",
          "coloraxis": {
           "colorbar": {
            "outlinewidth": 0,
            "ticks": ""
           }
          },
          "colorscale": {
           "diverging": [
            [
             0,
             "#8e0152"
            ],
            [
             0.1,
             "#c51b7d"
            ],
            [
             0.2,
             "#de77ae"
            ],
            [
             0.3,
             "#f1b6da"
            ],
            [
             0.4,
             "#fde0ef"
            ],
            [
             0.5,
             "#f7f7f7"
            ],
            [
             0.6,
             "#e6f5d0"
            ],
            [
             0.7,
             "#b8e186"
            ],
            [
             0.8,
             "#7fbc41"
            ],
            [
             0.9,
             "#4d9221"
            ],
            [
             1,
             "#276419"
            ]
           ],
           "sequential": [
            [
             0,
             "#0d0887"
            ],
            [
             0.1111111111111111,
             "#46039f"
            ],
            [
             0.2222222222222222,
             "#7201a8"
            ],
            [
             0.3333333333333333,
             "#9c179e"
            ],
            [
             0.4444444444444444,
             "#bd3786"
            ],
            [
             0.5555555555555556,
             "#d8576b"
            ],
            [
             0.6666666666666666,
             "#ed7953"
            ],
            [
             0.7777777777777778,
             "#fb9f3a"
            ],
            [
             0.8888888888888888,
             "#fdca26"
            ],
            [
             1,
             "#f0f921"
            ]
           ],
           "sequentialminus": [
            [
             0,
             "#0d0887"
            ],
            [
             0.1111111111111111,
             "#46039f"
            ],
            [
             0.2222222222222222,
             "#7201a8"
            ],
            [
             0.3333333333333333,
             "#9c179e"
            ],
            [
             0.4444444444444444,
             "#bd3786"
            ],
            [
             0.5555555555555556,
             "#d8576b"
            ],
            [
             0.6666666666666666,
             "#ed7953"
            ],
            [
             0.7777777777777778,
             "#fb9f3a"
            ],
            [
             0.8888888888888888,
             "#fdca26"
            ],
            [
             1,
             "#f0f921"
            ]
           ]
          },
          "colorway": [
           "#636efa",
           "#EF553B",
           "#00cc96",
           "#ab63fa",
           "#FFA15A",
           "#19d3f3",
           "#FF6692",
           "#B6E880",
           "#FF97FF",
           "#FECB52"
          ],
          "font": {
           "color": "#2a3f5f"
          },
          "geo": {
           "bgcolor": "white",
           "lakecolor": "white",
           "landcolor": "white",
           "showlakes": true,
           "showland": true,
           "subunitcolor": "#C8D4E3"
          },
          "hoverlabel": {
           "align": "left"
          },
          "hovermode": "closest",
          "mapbox": {
           "style": "light"
          },
          "paper_bgcolor": "white",
          "plot_bgcolor": "white",
          "polar": {
           "angularaxis": {
            "gridcolor": "#EBF0F8",
            "linecolor": "#EBF0F8",
            "ticks": ""
           },
           "bgcolor": "white",
           "radialaxis": {
            "gridcolor": "#EBF0F8",
            "linecolor": "#EBF0F8",
            "ticks": ""
           }
          },
          "scene": {
           "xaxis": {
            "backgroundcolor": "white",
            "gridcolor": "#DFE8F3",
            "gridwidth": 2,
            "linecolor": "#EBF0F8",
            "showbackground": true,
            "ticks": "",
            "zerolinecolor": "#EBF0F8"
           },
           "yaxis": {
            "backgroundcolor": "white",
            "gridcolor": "#DFE8F3",
            "gridwidth": 2,
            "linecolor": "#EBF0F8",
            "showbackground": true,
            "ticks": "",
            "zerolinecolor": "#EBF0F8"
           },
           "zaxis": {
            "backgroundcolor": "white",
            "gridcolor": "#DFE8F3",
            "gridwidth": 2,
            "linecolor": "#EBF0F8",
            "showbackground": true,
            "ticks": "",
            "zerolinecolor": "#EBF0F8"
           }
          },
          "shapedefaults": {
           "line": {
            "color": "#2a3f5f"
           }
          },
          "ternary": {
           "aaxis": {
            "gridcolor": "#DFE8F3",
            "linecolor": "#A2B1C6",
            "ticks": ""
           },
           "baxis": {
            "gridcolor": "#DFE8F3",
            "linecolor": "#A2B1C6",
            "ticks": ""
           },
           "bgcolor": "white",
           "caxis": {
            "gridcolor": "#DFE8F3",
            "linecolor": "#A2B1C6",
            "ticks": ""
           }
          },
          "title": {
           "x": 0.05
          },
          "xaxis": {
           "automargin": true,
           "gridcolor": "#EBF0F8",
           "linecolor": "#EBF0F8",
           "ticks": "",
           "title": {
            "standoff": 15
           },
           "zerolinecolor": "#EBF0F8",
           "zerolinewidth": 2
          },
          "yaxis": {
           "automargin": true,
           "gridcolor": "#EBF0F8",
           "linecolor": "#EBF0F8",
           "ticks": "",
           "title": {
            "standoff": 15
           },
           "zerolinecolor": "#EBF0F8",
           "zerolinewidth": 2
          }
         }
        },
        "title": {
         "text": "Histogram of Car Prices by Model for [2013, 2014]"
        },
        "xaxis": {
         "anchor": "y",
         "domain": [
          0,
          1
         ],
         "title": {
          "text": "Model"
         }
        },
        "yaxis": {
         "anchor": "x",
         "domain": [
          0,
          1
         ],
         "title": {
          "text": "Total Inventory Value"
         }
        }
       }
      }
     },
     "metadata": {},
     "output_type": "display_data"
    },
    {
     "data": {
      "application/vnd.plotly.v1+json": {
       "config": {
        "plotlyServerURL": "https://plot.ly"
       },
       "data": [
        {
         "alignmentgroup": "True",
         "hovertemplate": "model=%{x}<br>price=%{y}<extra></extra>",
         "legendgroup": "",
         "marker": {
          "color": "rgb(102, 197, 204)",
          "pattern": {
           "shape": ""
          }
         },
         "name": "",
         "offsetgroup": "",
         "orientation": "v",
         "showlegend": false,
         "textposition": "auto",
         "type": "bar",
         "x": [
          "honda accord",
          "honda civic",
          "honda civic lx",
          "honda cr-v",
          "honda pilot",
          "toyota 4runner",
          "toyota camry",
          "toyota camry le",
          "toyota corolla",
          "toyota prius",
          "toyota rav4",
          "toyota sienna"
         ],
         "xaxis": "x",
         "y": [
          6602.759071117562,
          6695.607798165138,
          6948.634831460674,
          8567.8,
          12995,
          25995,
          6990.0115606936415,
          6024.088235294118,
          7288.168674698795,
          6936.263157894737,
          4800,
          3422.5
         ],
         "yaxis": "y"
        }
       ],
       "layout": {
        "annotations": [
         {
          "align": "left",
          "bordercolor": "black",
          "borderwidth": 1,
          "showarrow": false,
          "text": "cylinders: [4, 6]<br>transmission: ['automatic']<br>car_type: ['sedan']<br>models: ['honda', 'toyota']",
          "x": 1.05,
          "xref": "paper",
          "y": 1,
          "yref": "paper"
         }
        ],
        "barmode": "relative",
        "legend": {
         "tracegroupgap": 0
        },
        "template": {
         "data": {
          "bar": [
           {
            "error_x": {
             "color": "#2a3f5f"
            },
            "error_y": {
             "color": "#2a3f5f"
            },
            "marker": {
             "line": {
              "color": "white",
              "width": 0.5
             },
             "pattern": {
              "fillmode": "overlay",
              "size": 10,
              "solidity": 0.2
             }
            },
            "type": "bar"
           }
          ],
          "barpolar": [
           {
            "marker": {
             "line": {
              "color": "white",
              "width": 0.5
             },
             "pattern": {
              "fillmode": "overlay",
              "size": 10,
              "solidity": 0.2
             }
            },
            "type": "barpolar"
           }
          ],
          "carpet": [
           {
            "aaxis": {
             "endlinecolor": "#2a3f5f",
             "gridcolor": "#C8D4E3",
             "linecolor": "#C8D4E3",
             "minorgridcolor": "#C8D4E3",
             "startlinecolor": "#2a3f5f"
            },
            "baxis": {
             "endlinecolor": "#2a3f5f",
             "gridcolor": "#C8D4E3",
             "linecolor": "#C8D4E3",
             "minorgridcolor": "#C8D4E3",
             "startlinecolor": "#2a3f5f"
            },
            "type": "carpet"
           }
          ],
          "choropleth": [
           {
            "colorbar": {
             "outlinewidth": 0,
             "ticks": ""
            },
            "type": "choropleth"
           }
          ],
          "contour": [
           {
            "colorbar": {
             "outlinewidth": 0,
             "ticks": ""
            },
            "colorscale": [
             [
              0,
              "#0d0887"
             ],
             [
              0.1111111111111111,
              "#46039f"
             ],
             [
              0.2222222222222222,
              "#7201a8"
             ],
             [
              0.3333333333333333,
              "#9c179e"
             ],
             [
              0.4444444444444444,
              "#bd3786"
             ],
             [
              0.5555555555555556,
              "#d8576b"
             ],
             [
              0.6666666666666666,
              "#ed7953"
             ],
             [
              0.7777777777777778,
              "#fb9f3a"
             ],
             [
              0.8888888888888888,
              "#fdca26"
             ],
             [
              1,
              "#f0f921"
             ]
            ],
            "type": "contour"
           }
          ],
          "contourcarpet": [
           {
            "colorbar": {
             "outlinewidth": 0,
             "ticks": ""
            },
            "type": "contourcarpet"
           }
          ],
          "heatmap": [
           {
            "colorbar": {
             "outlinewidth": 0,
             "ticks": ""
            },
            "colorscale": [
             [
              0,
              "#0d0887"
             ],
             [
              0.1111111111111111,
              "#46039f"
             ],
             [
              0.2222222222222222,
              "#7201a8"
             ],
             [
              0.3333333333333333,
              "#9c179e"
             ],
             [
              0.4444444444444444,
              "#bd3786"
             ],
             [
              0.5555555555555556,
              "#d8576b"
             ],
             [
              0.6666666666666666,
              "#ed7953"
             ],
             [
              0.7777777777777778,
              "#fb9f3a"
             ],
             [
              0.8888888888888888,
              "#fdca26"
             ],
             [
              1,
              "#f0f921"
             ]
            ],
            "type": "heatmap"
           }
          ],
          "heatmapgl": [
           {
            "colorbar": {
             "outlinewidth": 0,
             "ticks": ""
            },
            "colorscale": [
             [
              0,
              "#0d0887"
             ],
             [
              0.1111111111111111,
              "#46039f"
             ],
             [
              0.2222222222222222,
              "#7201a8"
             ],
             [
              0.3333333333333333,
              "#9c179e"
             ],
             [
              0.4444444444444444,
              "#bd3786"
             ],
             [
              0.5555555555555556,
              "#d8576b"
             ],
             [
              0.6666666666666666,
              "#ed7953"
             ],
             [
              0.7777777777777778,
              "#fb9f3a"
             ],
             [
              0.8888888888888888,
              "#fdca26"
             ],
             [
              1,
              "#f0f921"
             ]
            ],
            "type": "heatmapgl"
           }
          ],
          "histogram": [
           {
            "marker": {
             "pattern": {
              "fillmode": "overlay",
              "size": 10,
              "solidity": 0.2
             }
            },
            "type": "histogram"
           }
          ],
          "histogram2d": [
           {
            "colorbar": {
             "outlinewidth": 0,
             "ticks": ""
            },
            "colorscale": [
             [
              0,
              "#0d0887"
             ],
             [
              0.1111111111111111,
              "#46039f"
             ],
             [
              0.2222222222222222,
              "#7201a8"
             ],
             [
              0.3333333333333333,
              "#9c179e"
             ],
             [
              0.4444444444444444,
              "#bd3786"
             ],
             [
              0.5555555555555556,
              "#d8576b"
             ],
             [
              0.6666666666666666,
              "#ed7953"
             ],
             [
              0.7777777777777778,
              "#fb9f3a"
             ],
             [
              0.8888888888888888,
              "#fdca26"
             ],
             [
              1,
              "#f0f921"
             ]
            ],
            "type": "histogram2d"
           }
          ],
          "histogram2dcontour": [
           {
            "colorbar": {
             "outlinewidth": 0,
             "ticks": ""
            },
            "colorscale": [
             [
              0,
              "#0d0887"
             ],
             [
              0.1111111111111111,
              "#46039f"
             ],
             [
              0.2222222222222222,
              "#7201a8"
             ],
             [
              0.3333333333333333,
              "#9c179e"
             ],
             [
              0.4444444444444444,
              "#bd3786"
             ],
             [
              0.5555555555555556,
              "#d8576b"
             ],
             [
              0.6666666666666666,
              "#ed7953"
             ],
             [
              0.7777777777777778,
              "#fb9f3a"
             ],
             [
              0.8888888888888888,
              "#fdca26"
             ],
             [
              1,
              "#f0f921"
             ]
            ],
            "type": "histogram2dcontour"
           }
          ],
          "mesh3d": [
           {
            "colorbar": {
             "outlinewidth": 0,
             "ticks": ""
            },
            "type": "mesh3d"
           }
          ],
          "parcoords": [
           {
            "line": {
             "colorbar": {
              "outlinewidth": 0,
              "ticks": ""
             }
            },
            "type": "parcoords"
           }
          ],
          "pie": [
           {
            "automargin": true,
            "type": "pie"
           }
          ],
          "scatter": [
           {
            "fillpattern": {
             "fillmode": "overlay",
             "size": 10,
             "solidity": 0.2
            },
            "type": "scatter"
           }
          ],
          "scatter3d": [
           {
            "line": {
             "colorbar": {
              "outlinewidth": 0,
              "ticks": ""
             }
            },
            "marker": {
             "colorbar": {
              "outlinewidth": 0,
              "ticks": ""
             }
            },
            "type": "scatter3d"
           }
          ],
          "scattercarpet": [
           {
            "marker": {
             "colorbar": {
              "outlinewidth": 0,
              "ticks": ""
             }
            },
            "type": "scattercarpet"
           }
          ],
          "scattergeo": [
           {
            "marker": {
             "colorbar": {
              "outlinewidth": 0,
              "ticks": ""
             }
            },
            "type": "scattergeo"
           }
          ],
          "scattergl": [
           {
            "marker": {
             "colorbar": {
              "outlinewidth": 0,
              "ticks": ""
             }
            },
            "type": "scattergl"
           }
          ],
          "scattermapbox": [
           {
            "marker": {
             "colorbar": {
              "outlinewidth": 0,
              "ticks": ""
             }
            },
            "type": "scattermapbox"
           }
          ],
          "scatterpolar": [
           {
            "marker": {
             "colorbar": {
              "outlinewidth": 0,
              "ticks": ""
             }
            },
            "type": "scatterpolar"
           }
          ],
          "scatterpolargl": [
           {
            "marker": {
             "colorbar": {
              "outlinewidth": 0,
              "ticks": ""
             }
            },
            "type": "scatterpolargl"
           }
          ],
          "scatterternary": [
           {
            "marker": {
             "colorbar": {
              "outlinewidth": 0,
              "ticks": ""
             }
            },
            "type": "scatterternary"
           }
          ],
          "surface": [
           {
            "colorbar": {
             "outlinewidth": 0,
             "ticks": ""
            },
            "colorscale": [
             [
              0,
              "#0d0887"
             ],
             [
              0.1111111111111111,
              "#46039f"
             ],
             [
              0.2222222222222222,
              "#7201a8"
             ],
             [
              0.3333333333333333,
              "#9c179e"
             ],
             [
              0.4444444444444444,
              "#bd3786"
             ],
             [
              0.5555555555555556,
              "#d8576b"
             ],
             [
              0.6666666666666666,
              "#ed7953"
             ],
             [
              0.7777777777777778,
              "#fb9f3a"
             ],
             [
              0.8888888888888888,
              "#fdca26"
             ],
             [
              1,
              "#f0f921"
             ]
            ],
            "type": "surface"
           }
          ],
          "table": [
           {
            "cells": {
             "fill": {
              "color": "#EBF0F8"
             },
             "line": {
              "color": "white"
             }
            },
            "header": {
             "fill": {
              "color": "#C8D4E3"
             },
             "line": {
              "color": "white"
             }
            },
            "type": "table"
           }
          ]
         },
         "layout": {
          "annotationdefaults": {
           "arrowcolor": "#2a3f5f",
           "arrowhead": 0,
           "arrowwidth": 1
          },
          "autotypenumbers": "strict",
          "coloraxis": {
           "colorbar": {
            "outlinewidth": 0,
            "ticks": ""
           }
          },
          "colorscale": {
           "diverging": [
            [
             0,
             "#8e0152"
            ],
            [
             0.1,
             "#c51b7d"
            ],
            [
             0.2,
             "#de77ae"
            ],
            [
             0.3,
             "#f1b6da"
            ],
            [
             0.4,
             "#fde0ef"
            ],
            [
             0.5,
             "#f7f7f7"
            ],
            [
             0.6,
             "#e6f5d0"
            ],
            [
             0.7,
             "#b8e186"
            ],
            [
             0.8,
             "#7fbc41"
            ],
            [
             0.9,
             "#4d9221"
            ],
            [
             1,
             "#276419"
            ]
           ],
           "sequential": [
            [
             0,
             "#0d0887"
            ],
            [
             0.1111111111111111,
             "#46039f"
            ],
            [
             0.2222222222222222,
             "#7201a8"
            ],
            [
             0.3333333333333333,
             "#9c179e"
            ],
            [
             0.4444444444444444,
             "#bd3786"
            ],
            [
             0.5555555555555556,
             "#d8576b"
            ],
            [
             0.6666666666666666,
             "#ed7953"
            ],
            [
             0.7777777777777778,
             "#fb9f3a"
            ],
            [
             0.8888888888888888,
             "#fdca26"
            ],
            [
             1,
             "#f0f921"
            ]
           ],
           "sequentialminus": [
            [
             0,
             "#0d0887"
            ],
            [
             0.1111111111111111,
             "#46039f"
            ],
            [
             0.2222222222222222,
             "#7201a8"
            ],
            [
             0.3333333333333333,
             "#9c179e"
            ],
            [
             0.4444444444444444,
             "#bd3786"
            ],
            [
             0.5555555555555556,
             "#d8576b"
            ],
            [
             0.6666666666666666,
             "#ed7953"
            ],
            [
             0.7777777777777778,
             "#fb9f3a"
            ],
            [
             0.8888888888888888,
             "#fdca26"
            ],
            [
             1,
             "#f0f921"
            ]
           ]
          },
          "colorway": [
           "#636efa",
           "#EF553B",
           "#00cc96",
           "#ab63fa",
           "#FFA15A",
           "#19d3f3",
           "#FF6692",
           "#B6E880",
           "#FF97FF",
           "#FECB52"
          ],
          "font": {
           "color": "#2a3f5f"
          },
          "geo": {
           "bgcolor": "white",
           "lakecolor": "white",
           "landcolor": "white",
           "showlakes": true,
           "showland": true,
           "subunitcolor": "#C8D4E3"
          },
          "hoverlabel": {
           "align": "left"
          },
          "hovermode": "closest",
          "mapbox": {
           "style": "light"
          },
          "paper_bgcolor": "white",
          "plot_bgcolor": "white",
          "polar": {
           "angularaxis": {
            "gridcolor": "#EBF0F8",
            "linecolor": "#EBF0F8",
            "ticks": ""
           },
           "bgcolor": "white",
           "radialaxis": {
            "gridcolor": "#EBF0F8",
            "linecolor": "#EBF0F8",
            "ticks": ""
           }
          },
          "scene": {
           "xaxis": {
            "backgroundcolor": "white",
            "gridcolor": "#DFE8F3",
            "gridwidth": 2,
            "linecolor": "#EBF0F8",
            "showbackground": true,
            "ticks": "",
            "zerolinecolor": "#EBF0F8"
           },
           "yaxis": {
            "backgroundcolor": "white",
            "gridcolor": "#DFE8F3",
            "gridwidth": 2,
            "linecolor": "#EBF0F8",
            "showbackground": true,
            "ticks": "",
            "zerolinecolor": "#EBF0F8"
           },
           "zaxis": {
            "backgroundcolor": "white",
            "gridcolor": "#DFE8F3",
            "gridwidth": 2,
            "linecolor": "#EBF0F8",
            "showbackground": true,
            "ticks": "",
            "zerolinecolor": "#EBF0F8"
           }
          },
          "shapedefaults": {
           "line": {
            "color": "#2a3f5f"
           }
          },
          "ternary": {
           "aaxis": {
            "gridcolor": "#DFE8F3",
            "linecolor": "#A2B1C6",
            "ticks": ""
           },
           "baxis": {
            "gridcolor": "#DFE8F3",
            "linecolor": "#A2B1C6",
            "ticks": ""
           },
           "bgcolor": "white",
           "caxis": {
            "gridcolor": "#DFE8F3",
            "linecolor": "#A2B1C6",
            "ticks": ""
           }
          },
          "title": {
           "x": 0.05
          },
          "xaxis": {
           "automargin": true,
           "gridcolor": "#EBF0F8",
           "linecolor": "#EBF0F8",
           "ticks": "",
           "title": {
            "standoff": 15
           },
           "zerolinecolor": "#EBF0F8",
           "zerolinewidth": 2
          },
          "yaxis": {
           "automargin": true,
           "gridcolor": "#EBF0F8",
           "linecolor": "#EBF0F8",
           "ticks": "",
           "title": {
            "standoff": 15
           },
           "zerolinecolor": "#EBF0F8",
           "zerolinewidth": 2
          }
         }
        },
        "title": {
         "text": "Histogram of Car Prices by Model"
        },
        "xaxis": {
         "anchor": "y",
         "domain": [
          0,
          1
         ],
         "title": {
          "text": "Model"
         }
        },
        "yaxis": {
         "anchor": "x",
         "domain": [
          0,
          1
         ],
         "title": {
          "text": "Mean Price"
         }
        }
       }
      }
     },
     "metadata": {},
     "output_type": "display_data"
    }
   ],
   "source": [
    "def plot_histogram_price_filtered(df, model_year=None, cylinders=None, condition=None, fuel=None, transmission=None, \n",
    "                                  car_type=None, paint_color=None, is_4wd=None, models=None, aggregation='mean'):\n",
    "    \"\"\"\n",
    "    Plots a histogram of car prices by model with optional filters.\n",
    "\n",
    "    Parameters:\n",
    "    df (pd.DataFrame): The input DataFrame.\n",
    "    model_year (list or int, optional): The specific model year(s) to filter and plot. Defaults to None.\n",
    "    cylinders (list or int, optional): The number of cylinders to filter and plot. Defaults to None.\n",
    "    condition (list or str, optional): The condition of the car to filter and plot. Defaults to None.\n",
    "    fuel (list or str, optional): The type of fuel to filter and plot. Defaults to None.\n",
    "    transmission (list or str, optional): The type of transmission to filter and plot. Defaults to None.\n",
    "    car_type (list or str, optional): The type of car to filter and plot. Defaults to None.\n",
    "    paint_color (list or str, optional): The paint color of the car to filter and plot. Defaults to None.\n",
    "    is_4wd (list or bool, optional): Whether the car is 4WD to filter and plot. Defaults to None.\n",
    "    models (list of str, optional): List of substrings to filter models. Defaults to None.\n",
    "    aggregation (str, optional): The aggregation method for price ('mean' or 'sum'). Defaults to 'mean'.\n",
    "    \"\"\"\n",
    "    # Apply filters\n",
    "    filters_applied = {\n",
    "        'model_year': model_year,\n",
    "        'cylinders': cylinders,\n",
    "        'condition': condition,\n",
    "        'fuel': fuel,\n",
    "        'transmission': transmission,\n",
    "        'car_type': car_type,\n",
    "        'paint_color': paint_color,\n",
    "        'is_4wd': is_4wd,\n",
    "        'models': models\n",
    "    }\n",
    "    \n",
    "    if model_year is not None:\n",
    "        if isinstance(model_year, list):\n",
    "            df = df[df['model_year'].isin(model_year)]\n",
    "        else:\n",
    "            df = df[df['model_year'] == model_year]\n",
    "    if cylinders is not None:\n",
    "        if isinstance(cylinders, list):\n",
    "            df = df[df['cylinders'].isin(cylinders)]\n",
    "        else:\n",
    "            df = df[df['cylinders'] == cylinders]\n",
    "    if condition is not None:\n",
    "        if isinstance(condition, list):\n",
    "            df = df[df['condition'].isin(condition)]\n",
    "        else:\n",
    "            df = df[df['condition'] == condition]\n",
    "    if fuel is not None:\n",
    "        if isinstance(fuel, list):\n",
    "            df = df[df['fuel'].isin(fuel)]\n",
    "        else:\n",
    "            df = df[df['fuel'] == fuel]\n",
    "    if transmission is not None:\n",
    "        if isinstance(transmission, list):\n",
    "            df = df[df['transmission'].isin(transmission)]\n",
    "        else:\n",
    "            df = df[df['transmission'] == transmission]\n",
    "    if car_type is not None:\n",
    "        if isinstance(car_type, list):\n",
    "            df = df[df['type'].isin(car_type)]\n",
    "        else:\n",
    "            df = df[df['type'] == car_type]\n",
    "    if paint_color is not None:\n",
    "        if isinstance(paint_color, list):\n",
    "            df = df[df['paint_color'].isin(paint_color)]\n",
    "        else:\n",
    "            df = df[df['paint_color'] == paint_color]\n",
    "    if is_4wd is not None:\n",
    "        if isinstance(is_4wd, list):\n",
    "            df = df[df['is_4wd'].isin(is_4wd)]\n",
    "        else:\n",
    "            df = df[df['is_4wd'] == is_4wd]\n",
    "    if models is not None:\n",
    "        model_pattern = '|'.join(models)\n",
    "        df = df[df['model'].str.contains(model_pattern, case=False, na=False)]\n",
    "    \n",
    "    # Set the aggregation function for price\n",
    "    if aggregation == 'mean':\n",
    "        df_grouped = df.groupby('model')['price'].mean().reset_index()\n",
    "        y_title = 'Mean Price'\n",
    "    else:\n",
    "        df_grouped = df.groupby('model')['price'].sum().reset_index()\n",
    "        y_title = 'Total Inventory Value'\n",
    "    \n",
    "    # Create the bar chart\n",
    "    fig = px.bar(df_grouped, x='model', y='price',\n",
    "                 title=\"Histogram of Car Prices by Model\" + (f\" for {model_year}\" if model_year else \"\"),\n",
    "                 color_discrete_sequence=px.colors.qualitative.Pastel)\n",
    "    fig.update_layout(xaxis_title='Model', yaxis_title=y_title, template='plotly_white')\n",
    "    \n",
    "    # Add annotation for filters\n",
    "    filters_text = '<br>'.join([f\"{key}: {value}\" for key, value in filters_applied.items() if value is not None])\n",
    "    fig.add_annotation(\n",
    "        xref=\"paper\", yref=\"paper\",\n",
    "        x=1.05, y=1,\n",
    "        showarrow=False,\n",
    "        text=filters_text,\n",
    "        align=\"left\",\n",
    "        bordercolor=\"black\",\n",
    "        borderwidth=1\n",
    "    )\n",
    "\n",
    "    fig.show()\n",
    "# Plot histogram with filters and aggregation\n",
    "plot_histogram_price_filtered(df_clean, model_year=[2013, 2014], condition=['good'], fuel=['gas'], models=['bmw x5', 'ford f-150'], aggregation='sum')\n",
    "\n",
    "# Plot histogram for all model years with specific filters and default aggregation (mean)\n",
    "plot_histogram_price_filtered(df_clean, cylinders=[4, 6], transmission=['automatic'], car_type=['sedan'], models=['honda', 'toyota'])"
   ]
  },
  {
   "cell_type": "markdown",
   "metadata": {},
   "source": [
    "Integrate this into a pretty app using streamlit\n"
   ]
  },
  {
   "cell_type": "code",
   "execution_count": 8,
   "metadata": {},
   "outputs": [],
   "source": [
    "# Define the function to plot histogram with filters\n",
    "def plot_histogram_price_filtered_streamlit(df, model_year=None, cylinders=None, condition=None, fuel=None, transmission=None, \n",
    "                                  car_type=None, paint_color=None, is_4wd=None, models=None, aggregation='mean'):\n",
    "    \"\"\"\n",
    "    Plots a histogram of car prices by model with optional filters.\n",
    "\n",
    "    Parameters:\n",
    "    df (pd.DataFrame): The input DataFrame.\n",
    "    model_year (list or int, optional): The specific model year(s) to filter and plot. Defaults to None.\n",
    "    cylinders (list or int, optional): The number of cylinders to filter and plot. Defaults to None.\n",
    "    condition (list or str, optional): The condition of the car to filter and plot. Defaults to None.\n",
    "    fuel (list or str, optional): The type of fuel to filter and plot. Defaults to None.\n",
    "    transmission (list or str, optional): The type of transmission to filter and plot. Defaults to None.\n",
    "    car_type (list or str, optional): The type of car to filter and plot. Defaults to None.\n",
    "    paint_color (list or str, optional): The paint color of the car to filter and plot. Defaults to None.\n",
    "    is_4wd (list or bool, optional): Whether the car is 4WD to filter and plot. Defaults to None.\n",
    "    models (list of str, optional): List of substrings to filter models. Defaults to None.\n",
    "    aggregation (str, optional): The aggregation method for price ('mean' or 'sum'). Defaults to 'mean'.\n",
    "    \"\"\"\n",
    "    # Apply filters\n",
    "    if model_year is not None:\n",
    "        if isinstance(model_year, list):\n",
    "            df = df[df['model_year'].isin(model_year)]\n",
    "        else:\n",
    "            df = df[df['model_year'] == model_year]\n",
    "    if cylinders is not None:\n",
    "        if isinstance(cylinders, list):\n",
    "            df = df[df['cylinders'].isin(cylinders)]\n",
    "        else:\n",
    "            df = df[df['cylinders'] == cylinders]\n",
    "    if condition is not None:\n",
    "        if isinstance(condition, list):\n",
    "            df = df[df['condition'].isin(condition)]\n",
    "        else:\n",
    "            df = df[df['condition'] == condition]\n",
    "    if fuel is not None:\n",
    "        if isinstance(fuel, list):\n",
    "            df = df[df['fuel'].isin(fuel)]\n",
    "        else:\n",
    "            df = df[df['fuel'] == fuel]\n",
    "    if transmission is not None:\n",
    "        if isinstance(transmission, list):\n",
    "            df = df[df['transmission'].isin(transmission)]\n",
    "        else:\n",
    "            df = df[df['transmission'] == transmission]\n",
    "    if car_type is not None:\n",
    "        if isinstance(car_type, list):\n",
    "            df = df[df['type'].isin(car_type)]\n",
    "        else:\n",
    "            df = df[df['type'] == car_type]\n",
    "    if paint_color is not None:\n",
    "        if isinstance(paint_color, list):\n",
    "            df = df[df['paint_color'].isin(paint_color)]\n",
    "        else:\n",
    "            df = df[df['paint_color'] == paint_color]\n",
    "    if is_4wd is not None:\n",
    "        if isinstance(is_4wd, list):\n",
    "            df = df[df['is_4wd'].isin(is_4wd)]\n",
    "        else:\n",
    "            df = df[df['is_4wd'] == is_4wd]\n",
    "    if models is not None:\n",
    "        model_pattern = '|'.join(models)\n",
    "        df = df[df['model'].str.contains(model_pattern, case=False, na=False)]\n",
    "    \n",
    "    # Set the aggregation function for price\n",
    "    if aggregation == 'mean':\n",
    "        df_grouped = df.groupby('model')['price'].mean().reset_index()\n",
    "        y_title = 'Mean Price'\n",
    "    else:\n",
    "        df_grouped = df.groupby('model')['price'].sum().reset_index()\n",
    "        y_title = 'Total Price'\n",
    "    \n",
    "    # Create the bar chart\n",
    "    fig = px.bar(df_grouped, x='model', y='price',\n",
    "                 title=\"Histogram of Car Prices by Model\" + (f\" for {model_year}\" if model_year else \"\"),\n",
    "                 color_discrete_sequence=px.colors.qualitative.Pastel)\n",
    "    fig.update_layout(xaxis_title='Model', yaxis_title=y_title, template='plotly_white')\n",
    "    \n",
    "    # Add annotation for filters\n",
    "    filters_applied = {\n",
    "        'model_year': model_year,\n",
    "        'cylinders': cylinders,\n",
    "        'condition': condition,\n",
    "        'fuel': fuel,\n",
    "        'transmission': transmission,\n",
    "        'car_type': car_type,\n",
    "        'paint_color': paint_color,\n",
    "        'is_4wd': is_4wd,\n",
    "        'models': models\n",
    "    }\n",
    "    filters_text = '<br>'.join([f\"{key}: {value}\" for key, value in filters_applied.items() if value is not None])\n",
    "    fig.add_annotation(\n",
    "        xref=\"paper\", yref=\"paper\",\n",
    "        x=1.05, y=1,\n",
    "        showarrow=False,\n",
    "        text=filters_text,\n",
    "        align=\"left\",\n",
    "        bordercolor=\"black\",\n",
    "        borderwidth=1\n",
    "    )\n",
    "\n",
    "    return fig"
   ]
  },
  {
   "cell_type": "code",
   "execution_count": 9,
   "metadata": {},
   "outputs": [
    {
     "name": "stderr",
     "output_type": "stream",
     "text": [
      "2024-07-21 18:13:13.269 \n",
      "  \u001b[33m\u001b[1mWarning:\u001b[0m to view this Streamlit app on a browser, run it with the following\n",
      "  command:\n",
      "\n",
      "    streamlit run c:\\Users\\Jose\\miniconda3\\envs\\tripleten\\lib\\site-packages\\ipykernel_launcher.py [ARGUMENTS]\n"
     ]
    }
   ],
   "source": [
    "# Streamlit app\n",
    "st.title(\"Car Price Histogram with Filters\")\n",
    "\n",
    "# Get unique filter options based on current selection\n",
    "def get_unique_options(df, column):\n",
    "    return df[column].dropna().unique().tolist()\n",
    "\n",
    "# Sidebar filters\n",
    "model_year = st.sidebar.multiselect(\"Model Year\", get_unique_options(df, 'model_year'))\n",
    "cylinders = st.sidebar.multiselect(\"Cylinders\", get_unique_options(df, 'cylinders'))\n",
    "condition = st.sidebar.multiselect(\"Condition\", get_unique_options(df, 'condition'))\n",
    "fuel = st.sidebar.multiselect(\"Fuel\", get_unique_options(df, 'fuel'))\n",
    "transmission = st.sidebar.multiselect(\"Transmission\", get_unique_options(df, 'transmission'))\n",
    "car_type = st.sidebar.multiselect(\"Car Type\", get_unique_options(df, 'type'))\n",
    "paint_color = st.sidebar.multiselect(\"Paint Color\", get_unique_options(df, 'paint_color'))\n",
    "is_4wd = st.sidebar.multiselect(\"Is 4WD\", [True, False])\n",
    "models = st.sidebar.multiselect(\"Models\", get_unique_options(df, 'model'))\n",
    "aggregation = st.sidebar.radio(\"Aggregation Method\", ['mean', 'sum'])\n",
    "\n",
    "# Apply button\n",
    "if st.sidebar.button(\"Apply\"):\n",
    "    fig = plot_histogram_price_filtered(df, model_year=model_year, cylinders=cylinders, condition=condition, fuel=fuel, \n",
    "                                        transmission=transmission, car_type=car_type, paint_color=paint_color, \n",
    "                                        is_4wd=is_4wd, models=models, aggregation=aggregation)\n",
    "    st.plotly_chart(fig)"
   ]
  }
 ],
 "metadata": {
  "kernelspec": {
   "display_name": "tripleten",
   "language": "python",
   "name": "python3"
  },
  "language_info": {
   "codemirror_mode": {
    "name": "ipython",
    "version": 3
   },
   "file_extension": ".py",
   "mimetype": "text/x-python",
   "name": "python",
   "nbconvert_exporter": "python",
   "pygments_lexer": "ipython3",
   "version": "3.10.14"
  }
 },
 "nbformat": 4,
 "nbformat_minor": 2
}
