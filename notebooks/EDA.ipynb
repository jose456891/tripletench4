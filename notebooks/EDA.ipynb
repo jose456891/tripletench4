{
 "cells": [
  {
   "cell_type": "code",
   "execution_count": 28,
   "metadata": {},
   "outputs": [],
   "source": [
    "# Loading all the libraries\n",
    "import pandas as pd\n",
    "import numpy as np\n",
    "import scipy.stats\n",
    "import streamlit as st\n",
    "import time\n",
    "import plotly.express as px\n"
   ]
  },
  {
   "cell_type": "code",
   "execution_count": 29,
   "metadata": {},
   "outputs": [],
   "source": [
    "#Load Data\n",
    "\n",
    "df = pd.read_csv('../vehicles_us.csv')"
   ]
  },
  {
   "cell_type": "code",
   "execution_count": 30,
   "metadata": {},
   "outputs": [
    {
     "name": "stdout",
     "output_type": "stream",
     "text": [
      "<class 'pandas.core.frame.DataFrame'>\n",
      "RangeIndex: 51525 entries, 0 to 51524\n",
      "Data columns (total 13 columns):\n",
      " #   Column        Non-Null Count  Dtype  \n",
      "---  ------        --------------  -----  \n",
      " 0   price         51525 non-null  int64  \n",
      " 1   model_year    47906 non-null  float64\n",
      " 2   model         51525 non-null  object \n",
      " 3   condition     51525 non-null  object \n",
      " 4   cylinders     46265 non-null  float64\n",
      " 5   fuel          51525 non-null  object \n",
      " 6   odometer      43633 non-null  float64\n",
      " 7   transmission  51525 non-null  object \n",
      " 8   type          51525 non-null  object \n",
      " 9   paint_color   42258 non-null  object \n",
      " 10  is_4wd        25572 non-null  float64\n",
      " 11  date_posted   51525 non-null  object \n",
      " 12  days_listed   51525 non-null  int64  \n",
      "dtypes: float64(4), int64(2), object(7)\n",
      "memory usage: 5.1+ MB\n"
     ]
    }
   ],
   "source": [
    "df.info()"
   ]
  },
  {
   "cell_type": "code",
   "execution_count": 31,
   "metadata": {},
   "outputs": [
    {
     "name": "stdout",
     "output_type": "stream",
     "text": [
      "<class 'pandas.core.series.Series'>\n",
      "RangeIndex: 51525 entries, 0 to 51524\n",
      "Series name: type\n",
      "Non-Null Count  Dtype \n",
      "--------------  ----- \n",
      "51525 non-null  object\n",
      "dtypes: object(1)\n",
      "memory usage: 402.7+ KB\n",
      "info: \n",
      " None\n",
      "head: \n",
      " 0        SUV\n",
      "1     pickup\n",
      "2      sedan\n",
      "3     pickup\n",
      "4      sedan\n",
      "5      sedan\n",
      "6      sedan\n",
      "7        SUV\n",
      "8        SUV\n",
      "9        SUV\n",
      "10    pickup\n",
      "11     sedan\n",
      "12    pickup\n",
      "13     sedan\n",
      "14       SUV\n",
      "Name: type, dtype: object\n",
      "sample: \n",
      " 11993       SUV\n",
      "18804       SUV\n",
      "27724     truck\n",
      "13757       SUV\n",
      "16217     sedan\n",
      "32688       SUV\n",
      "790       truck\n",
      "20179       SUV\n",
      "32018    pickup\n",
      "49379     truck\n",
      "14438    pickup\n",
      "33535     truck\n",
      "25061     sedan\n",
      "14945       SUV\n",
      "29887     wagon\n",
      "Name: type, dtype: object\n"
     ]
    }
   ],
   "source": [
    "print (\"info: \\n\",df['type'].info())\n",
    "\n",
    "print(\"head: \\n\",df['type'].head(n=15))\n",
    "\n",
    "print(\"sample: \\n\",df['type'].sample(n=15))"
   ]
  },
  {
   "cell_type": "code",
   "execution_count": 32,
   "metadata": {},
   "outputs": [
    {
     "name": "stdout",
     "output_type": "stream",
     "text": [
      "<class 'pandas.core.frame.DataFrame'>\n",
      "RangeIndex: 51525 entries, 0 to 51524\n",
      "Data columns (total 13 columns):\n",
      " #   Column        Non-Null Count  Dtype  \n",
      "---  ------        --------------  -----  \n",
      " 0   price         51525 non-null  int64  \n",
      " 1   model_year    47906 non-null  float64\n",
      " 2   model         51525 non-null  object \n",
      " 3   condition     51525 non-null  object \n",
      " 4   cylinders     46265 non-null  float64\n",
      " 5   fuel          51525 non-null  object \n",
      " 6   odometer      43633 non-null  float64\n",
      " 7   transmission  51525 non-null  object \n",
      " 8   type          51525 non-null  object \n",
      " 9   paint_color   42258 non-null  object \n",
      " 10  is_4wd        25572 non-null  float64\n",
      " 11  date_posted   51525 non-null  object \n",
      " 12  days_listed   51525 non-null  int64  \n",
      "dtypes: float64(4), int64(2), object(7)\n",
      "memory usage: 5.1+ MB\n",
      "==================================================\n",
      "Exploring Column: \"price\"\n",
      "First few rows:\n",
      "0     9400\n",
      "1    25500\n",
      "2     5500\n",
      "3     1500\n",
      "4    14900\n",
      "Name: price, dtype: int64 \n",
      "\n",
      "Data types:\n",
      "int64 \n",
      "\n",
      "Summary statistics:\n",
      "count     51525.000000\n",
      "mean      12132.464920\n",
      "std       10040.803015\n",
      "min           1.000000\n",
      "25%        5000.000000\n",
      "50%        9000.000000\n",
      "75%       16839.000000\n",
      "max      375000.000000\n",
      "Name: price, dtype: float64 \n",
      "\n",
      "Data Frame Info:\n",
      "<class 'pandas.core.series.Series'>\n",
      "RangeIndex: 51525 entries, 0 to 51524\n",
      "Series name: price\n",
      "Non-Null Count  Dtype\n",
      "--------------  -----\n",
      "51525 non-null  int64\n",
      "dtypes: int64(1)\n",
      "memory usage: 402.7 KB\n",
      "None \n",
      "\n",
      "Get 20 random rows:\n",
      "42778     2695\n",
      "44926     5500\n",
      "44958    15995\n",
      "22248    14995\n",
      "41669     5995\n",
      "34983     6999\n",
      "24475    11695\n",
      "44911    16900\n",
      "46155    13000\n",
      "5754      1995\n",
      "9275     30487\n",
      "19862    24500\n",
      "51181     8797\n",
      "24906    13995\n",
      "38945     5995\n",
      "27129    13500\n",
      "29326    16900\n",
      "15909     4495\n",
      "18646     6999\n",
      "26911     4700\n",
      "Name: price, dtype: int64 \n",
      "\n",
      "================================================== \n",
      "\n",
      "==================================================\n",
      "Exploring Column: \"model_year\"\n",
      "First few rows:\n",
      "0    2011.0\n",
      "1       NaN\n",
      "2    2013.0\n",
      "3    2003.0\n",
      "4    2017.0\n",
      "Name: model_year, dtype: float64 \n",
      "\n",
      "Data types:\n",
      "float64 \n",
      "\n",
      "Summary statistics:\n",
      "count    47906.000000\n",
      "mean      2009.750470\n",
      "std          6.282065\n",
      "min       1908.000000\n",
      "25%       2006.000000\n",
      "50%       2011.000000\n",
      "75%       2014.000000\n",
      "max       2019.000000\n",
      "Name: model_year, dtype: float64 \n",
      "\n",
      "Data Frame Info:\n",
      "<class 'pandas.core.series.Series'>\n",
      "RangeIndex: 51525 entries, 0 to 51524\n",
      "Series name: model_year\n",
      "Non-Null Count  Dtype  \n",
      "--------------  -----  \n",
      "47906 non-null  float64\n",
      "dtypes: float64(1)\n",
      "memory usage: 402.7 KB\n",
      "None \n",
      "\n",
      "Get 20 random rows:\n",
      "19917    2009.0\n",
      "44986    2013.0\n",
      "32347    2017.0\n",
      "19018    2011.0\n",
      "8019        NaN\n",
      "31642    2009.0\n",
      "30480    2017.0\n",
      "34542    2006.0\n",
      "42620       NaN\n",
      "25331    2012.0\n",
      "5977     2017.0\n",
      "43785    2012.0\n",
      "50196    2015.0\n",
      "42362    2015.0\n",
      "49881    2005.0\n",
      "50545    2018.0\n",
      "28207    1997.0\n",
      "27923    2004.0\n",
      "51475    2017.0\n",
      "37062    2010.0\n",
      "Name: model_year, dtype: float64 \n",
      "\n",
      "================================================== \n",
      "\n",
      "==================================================\n",
      "Exploring Column: \"model\"\n",
      "First few rows:\n",
      "0            bmw x5\n",
      "1        ford f-150\n",
      "2    hyundai sonata\n",
      "3        ford f-150\n",
      "4      chrysler 200\n",
      "Name: model, dtype: object \n",
      "\n",
      "Data types:\n",
      "object \n",
      "\n",
      "Summary statistics:\n",
      "count          51525\n",
      "unique           100\n",
      "top       ford f-150\n",
      "freq            2796\n",
      "Name: model, dtype: object \n",
      "\n",
      "Data Frame Info:\n",
      "<class 'pandas.core.series.Series'>\n",
      "RangeIndex: 51525 entries, 0 to 51524\n",
      "Series name: model\n",
      "Non-Null Count  Dtype \n",
      "--------------  ----- \n",
      "51525 non-null  object\n",
      "dtypes: object(1)\n",
      "memory usage: 402.7+ KB\n",
      "None \n",
      "\n",
      "Get 20 random rows:\n",
      "23372               toyota camry le\n",
      "18011    jeep grand cherokee laredo\n",
      "23055    chevrolet silverado 2500hd\n",
      "34596           jeep grand cherokee\n",
      "31851                 jeep wrangler\n",
      "32393                ford econoline\n",
      "48415      ford mustang gt coupe 2d\n",
      "26439              volkswagen jetta\n",
      "4188       ford mustang gt coupe 2d\n",
      "28249               gmc sierra 1500\n",
      "23280                     ford edge\n",
      "628                   dodge charger\n",
      "38218               chevrolet tahoe\n",
      "47956                    ford f-150\n",
      "34185                  honda accord\n",
      "28060             gmc sierra 2500hd\n",
      "31336           dodge grand caravan\n",
      "11083                      ram 2500\n",
      "42569                 nissan sentra\n",
      "7629                 subaru outback\n",
      "Name: model, dtype: object \n",
      "\n",
      "================================================== \n",
      "\n",
      "==================================================\n",
      "Exploring Column: \"condition\"\n",
      "First few rows:\n",
      "0         good\n",
      "1         good\n",
      "2     like new\n",
      "3         fair\n",
      "4    excellent\n",
      "Name: condition, dtype: object \n",
      "\n",
      "Data types:\n",
      "object \n",
      "\n",
      "Summary statistics:\n",
      "count         51525\n",
      "unique            6\n",
      "top       excellent\n",
      "freq          24773\n",
      "Name: condition, dtype: object \n",
      "\n",
      "Data Frame Info:\n",
      "<class 'pandas.core.series.Series'>\n",
      "RangeIndex: 51525 entries, 0 to 51524\n",
      "Series name: condition\n",
      "Non-Null Count  Dtype \n",
      "--------------  ----- \n",
      "51525 non-null  object\n",
      "dtypes: object(1)\n",
      "memory usage: 402.7+ KB\n",
      "None \n",
      "\n",
      "Get 20 random rows:\n",
      "23975    excellent\n",
      "40786         good\n",
      "35446         good\n",
      "27088    excellent\n",
      "11991         good\n",
      "22871         good\n",
      "27027    excellent\n",
      "20021         fair\n",
      "47657    excellent\n",
      "20933    excellent\n",
      "17970         good\n",
      "15328          new\n",
      "41917         fair\n",
      "31374         good\n",
      "18584         good\n",
      "12282    excellent\n",
      "17454         good\n",
      "1649          good\n",
      "24681    excellent\n",
      "13744         good\n",
      "Name: condition, dtype: object \n",
      "\n",
      "================================================== \n",
      "\n",
      "==================================================\n",
      "Exploring Column: \"cylinders\"\n",
      "First few rows:\n",
      "0    6.0\n",
      "1    6.0\n",
      "2    4.0\n",
      "3    8.0\n",
      "4    4.0\n",
      "Name: cylinders, dtype: float64 \n",
      "\n",
      "Data types:\n",
      "float64 \n",
      "\n",
      "Summary statistics:\n",
      "count    46265.000000\n",
      "mean         6.125235\n",
      "std          1.660360\n",
      "min          3.000000\n",
      "25%          4.000000\n",
      "50%          6.000000\n",
      "75%          8.000000\n",
      "max         12.000000\n",
      "Name: cylinders, dtype: float64 \n",
      "\n",
      "Data Frame Info:\n",
      "<class 'pandas.core.series.Series'>\n",
      "RangeIndex: 51525 entries, 0 to 51524\n",
      "Series name: cylinders\n",
      "Non-Null Count  Dtype  \n",
      "--------------  -----  \n",
      "46265 non-null  float64\n",
      "dtypes: float64(1)\n",
      "memory usage: 402.7 KB\n",
      "None \n",
      "\n",
      "Get 20 random rows:\n",
      "2268     6.0\n",
      "33202    6.0\n",
      "37507    8.0\n",
      "28479    8.0\n",
      "25913    6.0\n",
      "2269     8.0\n",
      "3103     NaN\n",
      "32941    NaN\n",
      "14675    4.0\n",
      "8426     8.0\n",
      "51053    4.0\n",
      "48663    6.0\n",
      "39934    4.0\n",
      "13707    4.0\n",
      "6316     6.0\n",
      "49958    8.0\n",
      "32290    8.0\n",
      "6073     8.0\n",
      "29145    4.0\n",
      "31640    4.0\n",
      "Name: cylinders, dtype: float64 \n",
      "\n",
      "================================================== \n",
      "\n",
      "==================================================\n",
      "Exploring Column: \"fuel\"\n",
      "First few rows:\n",
      "0    gas\n",
      "1    gas\n",
      "2    gas\n",
      "3    gas\n",
      "4    gas\n",
      "Name: fuel, dtype: object \n",
      "\n",
      "Data types:\n",
      "object \n",
      "\n",
      "Summary statistics:\n",
      "count     51525\n",
      "unique        5\n",
      "top         gas\n",
      "freq      47288\n",
      "Name: fuel, dtype: object \n",
      "\n",
      "Data Frame Info:\n",
      "<class 'pandas.core.series.Series'>\n",
      "RangeIndex: 51525 entries, 0 to 51524\n",
      "Series name: fuel\n",
      "Non-Null Count  Dtype \n",
      "--------------  ----- \n",
      "51525 non-null  object\n",
      "dtypes: object(1)\n",
      "memory usage: 402.7+ KB\n",
      "None \n",
      "\n",
      "Get 20 random rows:\n",
      "4150        gas\n",
      "46939    diesel\n",
      "14470       gas\n",
      "15607       gas\n",
      "38245       gas\n",
      "15007       gas\n",
      "6597        gas\n",
      "12172       gas\n",
      "6266        gas\n",
      "45542       gas\n",
      "34230       gas\n",
      "26948       gas\n",
      "8153        gas\n",
      "19866    diesel\n",
      "29171       gas\n",
      "39095       gas\n",
      "6785        gas\n",
      "45496       gas\n",
      "28749    diesel\n",
      "16520       gas\n",
      "Name: fuel, dtype: object \n",
      "\n",
      "================================================== \n",
      "\n",
      "==================================================\n",
      "Exploring Column: \"odometer\"\n",
      "First few rows:\n",
      "0    145000.0\n",
      "1     88705.0\n",
      "2    110000.0\n",
      "3         NaN\n",
      "4     80903.0\n",
      "Name: odometer, dtype: float64 \n",
      "\n",
      "Data types:\n",
      "float64 \n",
      "\n",
      "Summary statistics:\n",
      "count     43633.000000\n",
      "mean     115553.461738\n",
      "std       65094.611341\n",
      "min           0.000000\n",
      "25%       70000.000000\n",
      "50%      113000.000000\n",
      "75%      155000.000000\n",
      "max      990000.000000\n",
      "Name: odometer, dtype: float64 \n",
      "\n",
      "Data Frame Info:\n",
      "<class 'pandas.core.series.Series'>\n",
      "RangeIndex: 51525 entries, 0 to 51524\n",
      "Series name: odometer\n",
      "Non-Null Count  Dtype  \n",
      "--------------  -----  \n",
      "43633 non-null  float64\n",
      "dtypes: float64(1)\n",
      "memory usage: 402.7 KB\n",
      "None \n",
      "\n",
      "Get 20 random rows:\n",
      "2253      40800.0\n",
      "26640     70844.0\n",
      "20069    134925.0\n",
      "25997    319000.0\n",
      "11809    140000.0\n",
      "28844     34870.0\n",
      "34272    180280.0\n",
      "3723      37455.0\n",
      "39899         NaN\n",
      "5836      73394.0\n",
      "39485    129869.0\n",
      "50225     52000.0\n",
      "10700    170000.0\n",
      "29280     82237.0\n",
      "3717     194008.0\n",
      "20616     84633.0\n",
      "22569    186848.0\n",
      "33328    122974.0\n",
      "5672     123000.0\n",
      "43986       145.0\n",
      "Name: odometer, dtype: float64 \n",
      "\n",
      "================================================== \n",
      "\n",
      "==================================================\n",
      "Exploring Column: \"transmission\"\n",
      "First few rows:\n",
      "0    automatic\n",
      "1    automatic\n",
      "2    automatic\n",
      "3    automatic\n",
      "4    automatic\n",
      "Name: transmission, dtype: object \n",
      "\n",
      "Data types:\n",
      "object \n",
      "\n",
      "Summary statistics:\n",
      "count         51525\n",
      "unique            3\n",
      "top       automatic\n",
      "freq          46902\n",
      "Name: transmission, dtype: object \n",
      "\n",
      "Data Frame Info:\n",
      "<class 'pandas.core.series.Series'>\n",
      "RangeIndex: 51525 entries, 0 to 51524\n",
      "Series name: transmission\n",
      "Non-Null Count  Dtype \n",
      "--------------  ----- \n",
      "51525 non-null  object\n",
      "dtypes: object(1)\n",
      "memory usage: 402.7+ KB\n",
      "None \n",
      "\n",
      "Get 20 random rows:\n",
      "9201     automatic\n",
      "5490     automatic\n",
      "27772    automatic\n",
      "51349    automatic\n",
      "12152    automatic\n",
      "19945    automatic\n",
      "12181    automatic\n",
      "19486    automatic\n",
      "41746    automatic\n",
      "38185    automatic\n",
      "11831    automatic\n",
      "15030    automatic\n",
      "17712    automatic\n",
      "17446    automatic\n",
      "48995    automatic\n",
      "42200    automatic\n",
      "48577    automatic\n",
      "21181    automatic\n",
      "34973    automatic\n",
      "30412    automatic\n",
      "Name: transmission, dtype: object \n",
      "\n",
      "================================================== \n",
      "\n",
      "==================================================\n",
      "Exploring Column: \"type\"\n",
      "First few rows:\n",
      "0       SUV\n",
      "1    pickup\n",
      "2     sedan\n",
      "3    pickup\n",
      "4     sedan\n",
      "Name: type, dtype: object \n",
      "\n",
      "Data types:\n",
      "object \n",
      "\n",
      "Summary statistics:\n",
      "count     51525\n",
      "unique       13\n",
      "top         SUV\n",
      "freq      12405\n",
      "Name: type, dtype: object \n",
      "\n",
      "Data Frame Info:\n",
      "<class 'pandas.core.series.Series'>\n",
      "RangeIndex: 51525 entries, 0 to 51524\n",
      "Series name: type\n",
      "Non-Null Count  Dtype \n",
      "--------------  ----- \n",
      "51525 non-null  object\n",
      "dtypes: object(1)\n",
      "memory usage: 402.7+ KB\n",
      "None \n",
      "\n",
      "Get 20 random rows:\n",
      "36593        sedan\n",
      "23826        sedan\n",
      "36123       pickup\n",
      "28110    hatchback\n",
      "2998         truck\n",
      "357          coupe\n",
      "2879         sedan\n",
      "35566          SUV\n",
      "48950          SUV\n",
      "14043          SUV\n",
      "30246        other\n",
      "23880       pickup\n",
      "35920        sedan\n",
      "39478     mini-van\n",
      "22445          van\n",
      "47640        sedan\n",
      "23259          SUV\n",
      "46189          SUV\n",
      "31247        truck\n",
      "22187        truck\n",
      "Name: type, dtype: object \n",
      "\n",
      "================================================== \n",
      "\n",
      "==================================================\n",
      "Exploring Column: \"paint_color\"\n",
      "First few rows:\n",
      "0      NaN\n",
      "1    white\n",
      "2      red\n",
      "3      NaN\n",
      "4    black\n",
      "Name: paint_color, dtype: object \n",
      "\n",
      "Data types:\n",
      "object \n",
      "\n",
      "Summary statistics:\n",
      "count     42258\n",
      "unique       12\n",
      "top       white\n",
      "freq      10029\n",
      "Name: paint_color, dtype: object \n",
      "\n",
      "Data Frame Info:\n",
      "<class 'pandas.core.series.Series'>\n",
      "RangeIndex: 51525 entries, 0 to 51524\n",
      "Series name: paint_color\n",
      "Non-Null Count  Dtype \n",
      "--------------  ----- \n",
      "42258 non-null  object\n",
      "dtypes: object(1)\n",
      "memory usage: 402.7+ KB\n",
      "None \n",
      "\n",
      "Get 20 random rows:\n",
      "19720       red\n",
      "5535      black\n",
      "8363        NaN\n",
      "23162     black\n",
      "12502       NaN\n",
      "1231     silver\n",
      "23182       NaN\n",
      "36363     black\n",
      "45518    silver\n",
      "3896     silver\n",
      "9377        red\n",
      "16577       red\n",
      "47368      grey\n",
      "22839     white\n",
      "45728     black\n",
      "6651     silver\n",
      "13290     white\n",
      "48847     white\n",
      "31445       NaN\n",
      "27628       red\n",
      "Name: paint_color, dtype: object \n",
      "\n",
      "================================================== \n",
      "\n",
      "==================================================\n",
      "Exploring Column: \"is_4wd\"\n",
      "First few rows:\n",
      "0    1.0\n",
      "1    1.0\n",
      "2    NaN\n",
      "3    NaN\n",
      "4    NaN\n",
      "Name: is_4wd, dtype: float64 \n",
      "\n",
      "Data types:\n",
      "float64 \n",
      "\n",
      "Summary statistics:\n",
      "count    25572.0\n",
      "mean         1.0\n",
      "std          0.0\n",
      "min          1.0\n",
      "25%          1.0\n",
      "50%          1.0\n",
      "75%          1.0\n",
      "max          1.0\n",
      "Name: is_4wd, dtype: float64 \n",
      "\n",
      "Data Frame Info:\n",
      "<class 'pandas.core.series.Series'>\n",
      "RangeIndex: 51525 entries, 0 to 51524\n",
      "Series name: is_4wd\n",
      "Non-Null Count  Dtype  \n",
      "--------------  -----  \n",
      "25572 non-null  float64\n",
      "dtypes: float64(1)\n",
      "memory usage: 402.7 KB\n",
      "None \n",
      "\n",
      "Get 20 random rows:\n",
      "20116    1.0\n",
      "7855     NaN\n",
      "49498    NaN\n",
      "47491    1.0\n",
      "36910    NaN\n",
      "6340     1.0\n",
      "43947    NaN\n",
      "3132     NaN\n",
      "28176    1.0\n",
      "18476    NaN\n",
      "43893    1.0\n",
      "11260    NaN\n",
      "36030    NaN\n",
      "36377    NaN\n",
      "15613    NaN\n",
      "30279    1.0\n",
      "16651    1.0\n",
      "31319    NaN\n",
      "15527    NaN\n",
      "21610    NaN\n",
      "Name: is_4wd, dtype: float64 \n",
      "\n",
      "================================================== \n",
      "\n",
      "==================================================\n",
      "Exploring Column: \"date_posted\"\n",
      "First few rows:\n",
      "0    2018-06-23\n",
      "1    2018-10-19\n",
      "2    2019-02-07\n",
      "3    2019-03-22\n",
      "4    2019-04-02\n",
      "Name: date_posted, dtype: object \n",
      "\n",
      "Data types:\n",
      "object \n",
      "\n",
      "Summary statistics:\n",
      "count          51525\n",
      "unique           354\n",
      "top       2019-03-17\n",
      "freq             186\n",
      "Name: date_posted, dtype: object \n",
      "\n",
      "Data Frame Info:\n",
      "<class 'pandas.core.series.Series'>\n",
      "RangeIndex: 51525 entries, 0 to 51524\n",
      "Series name: date_posted\n",
      "Non-Null Count  Dtype \n",
      "--------------  ----- \n",
      "51525 non-null  object\n",
      "dtypes: object(1)\n",
      "memory usage: 402.7+ KB\n",
      "None \n",
      "\n",
      "Get 20 random rows:\n",
      "28508    2018-12-31\n",
      "50009    2019-01-01\n",
      "37110    2019-03-25\n",
      "16776    2019-02-05\n",
      "6659     2018-05-03\n",
      "39079    2018-08-13\n",
      "27034    2018-11-26\n",
      "13430    2019-03-22\n",
      "41296    2018-10-03\n",
      "10171    2018-08-13\n",
      "20909    2019-01-15\n",
      "3212     2018-09-10\n",
      "4335     2019-04-01\n",
      "21010    2018-08-09\n",
      "30228    2018-07-01\n",
      "8812     2018-11-14\n",
      "12967    2019-01-02\n",
      "23077    2018-06-16\n",
      "29139    2018-06-28\n",
      "42544    2019-01-31\n",
      "Name: date_posted, dtype: object \n",
      "\n",
      "================================================== \n",
      "\n",
      "==================================================\n",
      "Exploring Column: \"days_listed\"\n",
      "First few rows:\n",
      "0    19\n",
      "1    50\n",
      "2    79\n",
      "3     9\n",
      "4    28\n",
      "Name: days_listed, dtype: int64 \n",
      "\n",
      "Data types:\n",
      "int64 \n",
      "\n",
      "Summary statistics:\n",
      "count    51525.00000\n",
      "mean        39.55476\n",
      "std         28.20427\n",
      "min          0.00000\n",
      "25%         19.00000\n",
      "50%         33.00000\n",
      "75%         53.00000\n",
      "max        271.00000\n",
      "Name: days_listed, dtype: float64 \n",
      "\n",
      "Data Frame Info:\n",
      "<class 'pandas.core.series.Series'>\n",
      "RangeIndex: 51525 entries, 0 to 51524\n",
      "Series name: days_listed\n",
      "Non-Null Count  Dtype\n",
      "--------------  -----\n",
      "51525 non-null  int64\n",
      "dtypes: int64(1)\n",
      "memory usage: 402.7 KB\n",
      "None \n",
      "\n",
      "Get 20 random rows:\n",
      "41379     5\n",
      "11866    67\n",
      "25220    33\n",
      "14097    23\n",
      "46682    36\n",
      "1703     31\n",
      "15687    36\n",
      "47558    16\n",
      "43788    49\n",
      "10674    73\n",
      "25657    19\n",
      "42215     9\n",
      "37068    37\n",
      "37802    18\n",
      "20531    46\n",
      "9491     17\n",
      "49007     3\n",
      "44867    20\n",
      "12775    33\n",
      "30826    46\n",
      "Name: days_listed, dtype: int64 \n",
      "\n",
      "================================================== \n",
      "\n"
     ]
    }
   ],
   "source": [
    "def explore_df(df, name):\n",
    "    print(\"=\"*50)\n",
    "    print(f\"Exploring Column: \\\"{name}\\\"\")\n",
    "    print(\"First few rows:\")\n",
    "    print(df.head(), \"\\n\")\n",
    "    print(\"Data types:\")\n",
    "    print(df.dtypes, \"\\n\")\n",
    "    print(\"Summary statistics:\")\n",
    "    print(df.describe(include='all'), \"\\n\")\n",
    "    print(\"Data Frame Info:\")\n",
    "    print(df.info(), \"\\n\")\n",
    "    print(\"Get 20 random rows:\")\n",
    "    print(df.sample(n=20), \"\\n\")\n",
    "    print(\"=\"*50, \"\\n\")\n",
    "\n",
    "df.info()\n",
    "\n",
    "for col in df:\n",
    "    explore_df(df[col],col)\n",
    "\n"
   ]
  },
  {
   "cell_type": "markdown",
   "metadata": {},
   "source": [
    "# Correct datatypes\n",
    "\n",
    "0   price         51525 non-null  int64    #Should be float?\n",
    "\n",
    "1   model_year    47906 non-null  float64  #Should be int, missing objects, but can they be replaced?\n",
    "\n",
    "2   model         51525 non-null  object \n",
    "\n",
    "3   condition     51525 non-null  object   \n",
    "\n",
    "4   cylinders     46265 non-null  float64  #Should be int, missing data\n",
    "\n",
    "5   fuel          51525 non-null  object \n",
    "\n",
    "6   odometer      43633 non-null  float64  #missing data\n",
    "\n",
    "7   transmission  51525 non-null  object\n",
    "\n",
    "8   type          51525 non-null  object \n",
    "\n",
    "9   paint_color   42258 non-null  object   #missing data\n",
    "\n",
    "10  is_4wd        25572 non-null  float64  #Should be boolean, not binary, not float\n",
    "\n",
    "11  date_posted   51525 non-null  object   #Should be datetype\n",
    "\n",
    "12  days_listed   51525 non-null  int64 "
   ]
  },
  {
   "cell_type": "markdown",
   "metadata": {},
   "source": [
    "# Drop or augment missing values:\n",
    "\n",
    "1. drop rows with missing model_year. No way they can be replaced without significantly skewing data.\n",
    "2. cylinders, calculate the most common value for the model vehicle and assign, if this fails, assign most common in all data\n",
    "3. odometer, calcutate mean value according to condition\n",
    "4. paint_color, calculate most common value for model, else assiggn most common value in all data\n",
    "5. is_4wd defaults to false if 0.0 in dataframe."
   ]
  },
  {
   "cell_type": "code",
   "execution_count": 33,
   "metadata": {},
   "outputs": [],
   "source": [
    "def dataprep(df):\n",
    "    \"\"\"\n",
    "    Cleans and converts columns in the DataFrame to the desired data types and drops rows with missing data.\n",
    "\n",
    "    Parameters:\n",
    "    df (pd.DataFrame): The input DataFrame.\n",
    "\n",
    "    Returns:\n",
    "    pd.DataFrame: The cleaned and converted DataFrame.\n",
    "    \"\"\"\n",
    "    # Drop rows with missing model_year\n",
    "    df = df.dropna(subset=['model_year'])\n",
    "\n",
    "    # Fill missing cylinders values\n",
    "    # Calculate the mean value for each model\n",
    "    model_cylinders_mean = df.groupby('model')['cylinders'].mean()\n",
    "    df['cylinders'] = df.apply(\n",
    "        lambda row: model_cylinders_mean[row['model']] if pd.isna(row['cylinders']) else row['cylinders'], axis=1\n",
    "    )\n",
    "    # Fill any remaining NaN values with the overall mean cylinders value\n",
    "    overall_mean_cylinders = df['cylinders'].mean()\n",
    "    df['cylinders'] = df['cylinders'].fillna(overall_mean_cylinders)\n",
    "\n",
    "    # Fill missing odometer values\n",
    "    # Calculate the mean odometer value for each condition\n",
    "    condition_odometer = df.groupby('condition')['odometer'].mean()\n",
    "    df['odometer'] = df.apply(\n",
    "        lambda row: condition_odometer[row['condition']] if pd.isna(row['odometer']) else row['odometer'], axis=1\n",
    "    )\n",
    "\n",
    "    # Fill missing paint_color values\n",
    "    # Calculate the most common value for each model\n",
    "    model_paint_color = df.groupby('model')['paint_color'].agg(lambda x: x.mode().iloc[0] if not x.mode().empty else np.nan)\n",
    "    df['paint_color'] = df.apply(\n",
    "        lambda row: model_paint_color[row['model']] if pd.isna(row['paint_color']) else row['paint_color'], axis=1\n",
    "    )\n",
    "    # Fill any remaining NaN values with the overall most common paint color\n",
    "    most_common_paint_color = df['paint_color'].mode().iloc[0]\n",
    "    df['paint_color'] = df['paint_color'].fillna(most_common_paint_color)\n",
    "\n",
    "    # Fill missing is_4wd values with 0.0\n",
    "    df['is_4wd'] = df['is_4wd'].fillna(0.0)\n",
    "\n",
    "    # Convert data types\n",
    "    df['price'] = df['price'].astype('float64')\n",
    "    df['model_year'] = df['model_year'].astype('int64')\n",
    "    df['cylinders'] = df['cylinders'].astype('int64')\n",
    "    df['is_4wd'] = df['is_4wd'].map({1.0: True, 0.0: False})\n",
    "    df['date_posted'] = pd.to_datetime(df['date_posted']).dt.floor('D')\n",
    "\n",
    "    return df\n",
    "\n",
    "df_clean = dataprep(df)\n",
    "\n",
    "df_clean.info()\n",
    "print(\"First few rows:\")\n",
    "print(df_clean.head(n=50), \"\\n\")"
   ]
  },
  {
   "cell_type": "markdown",
   "metadata": {},
   "source": [
    "# What do we see?\n",
    "I'm imagining the type of company similar to CoPart. I twould be useful to make it modular so the user is able to perform simple data visualization by taking in filters.\n",
    "\n",
    "- What is the most popular car?\n",
    "\n",
    "- Market trends ? -  What is the average car price of all years?\n",
    "    "
   ]
  },
  {
   "cell_type": "code",
   "execution_count": null,
   "metadata": {},
   "outputs": [
    {
     "data": {
      "application/vnd.plotly.v1+json": {
       "config": {
        "plotlyServerURL": "https://plot.ly"
       },
       "data": [
        {
         "alignmentgroup": "True",
         "hovertemplate": "model=%{x}<br>price=%{y}<extra></extra>",
         "legendgroup": "",
         "marker": {
          "color": "rgb(102, 197, 204)",
          "pattern": {
           "shape": ""
          }
         },
         "name": "",
         "offsetgroup": "",
         "orientation": "v",
         "showlegend": false,
         "textposition": "auto",
         "type": "bar",
         "x": [
          "acura tl",
          "bmw x5",
          "buick enclave",
          "cadillac escalade",
          "chevrolet camaro",
          "chevrolet camaro lt coupe 2d",
          "chevrolet colorado",
          "chevrolet corvette",
          "chevrolet cruze",
          "chevrolet equinox",
          "chevrolet impala",
          "chevrolet malibu",
          "chevrolet silverado",
          "chevrolet silverado 1500",
          "chevrolet silverado 1500 crew",
          "chevrolet silverado 2500hd",
          "chevrolet silverado 3500hd",
          "chevrolet suburban",
          "chevrolet tahoe",
          "chevrolet trailblazer",
          "chevrolet traverse",
          "chrysler 200",
          "chrysler 300",
          "chrysler town & country",
          "dodge charger",
          "dodge dakota",
          "dodge grand caravan",
          "ford econoline",
          "ford edge",
          "ford escape",
          "ford expedition",
          "ford explorer",
          "ford f-150",
          "ford f-250",
          "ford f-250 sd",
          "ford f-250 super duty",
          "ford f-350 sd",
          "ford f150",
          "ford f150 supercrew cab xlt",
          "ford f250",
          "ford f250 super duty",
          "ford f350",
          "ford f350 super duty",
          "ford focus",
          "ford focus se",
          "ford fusion",
          "ford fusion se",
          "ford mustang",
          "ford mustang gt coupe 2d",
          "ford ranger",
          "ford taurus",
          "gmc acadia",
          "gmc sierra",
          "gmc sierra 1500",
          "gmc sierra 2500hd",
          "gmc yukon",
          "honda accord",
          "honda civic",
          "honda civic lx",
          "honda cr-v",
          "honda odyssey",
          "honda pilot",
          "hyundai elantra",
          "hyundai santa fe",
          "hyundai sonata",
          "jeep cherokee",
          "jeep grand cherokee",
          "jeep grand cherokee laredo",
          "jeep liberty",
          "jeep wrangler",
          "jeep wrangler unlimited",
          "kia sorento",
          "kia soul",
          "mercedes-benz benze sprinter 2500",
          "nissan altima",
          "nissan frontier",
          "nissan frontier crew cab sv",
          "nissan maxima",
          "nissan murano",
          "nissan rogue",
          "nissan sentra",
          "nissan versa",
          "ram 1500",
          "ram 2500",
          "ram 3500",
          "subaru forester",
          "subaru impreza",
          "subaru outback",
          "toyota 4runner",
          "toyota camry",
          "toyota camry le",
          "toyota corolla",
          "toyota highlander",
          "toyota prius",
          "toyota rav4",
          "toyota sienna",
          "toyota tacoma",
          "toyota tundra",
          "volkswagen jetta",
          "volkswagen passat"
         ],
         "xaxis": "x",
         "y": [
          1444472,
          2683722,
          2986193,
          5127581,
          5240479,
          5975575,
          4000676,
          8915424,
          3360711,
          5352386,
          3816466,
          4215171,
          16723875,
          31608587,
          8216750,
          17688164,
          5747213,
          7712181,
          8873972,
          1002049,
          3488779,
          1723045,
          2767967,
          1933560,
          3445979,
          1113485,
          4829422,
          4080782,
          4171618,
          6291531,
          2920064,
          8284870,
          36838790,
          5532851,
          8808420,
          4244087,
          5935294,
          6475651,
          7630293,
          5274400,
          5363532,
          4376649,
          3518563,
          4223117,
          2093183,
          3875860,
          2369943,
          6699938,
          7072649,
          2375231,
          1401123,
          2890301,
          5021134,
          13694495,
          8663972,
          4087211,
          5677184,
          4782305,
          1599535,
          5716987,
          3241454,
          2786394,
          2939549,
          1951674,
          3147338,
          2986915,
          7136512,
          1569656,
          1789430,
          15719928,
          9821678,
          2206307,
          2490141,
          1186600,
          5350034,
          3540209,
          6819835,
          2019587,
          1623457,
          4265078,
          2926678,
          1327427,
          23450735,
          23136286,
          9891504,
          4100761,
          1865761,
          4386773,
          5438714,
          6462906,
          1705192,
          4211516,
          3218980,
          3134886,
          3899885,
          2709977,
          11917871,
          8331892,
          3128387,
          2735892
         ],
         "yaxis": "y"
        }
       ],
       "layout": {
        "barmode": "relative",
        "legend": {
         "tracegroupgap": 0
        },
        "template": {
         "data": {
          "bar": [
           {
            "error_x": {
             "color": "#2a3f5f"
            },
            "error_y": {
             "color": "#2a3f5f"
            },
            "marker": {
             "line": {
              "color": "white",
              "width": 0.5
             },
             "pattern": {
              "fillmode": "overlay",
              "size": 10,
              "solidity": 0.2
             }
            },
            "type": "bar"
           }
          ],
          "barpolar": [
           {
            "marker": {
             "line": {
              "color": "white",
              "width": 0.5
             },
             "pattern": {
              "fillmode": "overlay",
              "size": 10,
              "solidity": 0.2
             }
            },
            "type": "barpolar"
           }
          ],
          "carpet": [
           {
            "aaxis": {
             "endlinecolor": "#2a3f5f",
             "gridcolor": "#C8D4E3",
             "linecolor": "#C8D4E3",
             "minorgridcolor": "#C8D4E3",
             "startlinecolor": "#2a3f5f"
            },
            "baxis": {
             "endlinecolor": "#2a3f5f",
             "gridcolor": "#C8D4E3",
             "linecolor": "#C8D4E3",
             "minorgridcolor": "#C8D4E3",
             "startlinecolor": "#2a3f5f"
            },
            "type": "carpet"
           }
          ],
          "choropleth": [
           {
            "colorbar": {
             "outlinewidth": 0,
             "ticks": ""
            },
            "type": "choropleth"
           }
          ],
          "contour": [
           {
            "colorbar": {
             "outlinewidth": 0,
             "ticks": ""
            },
            "colorscale": [
             [
              0,
              "#0d0887"
             ],
             [
              0.1111111111111111,
              "#46039f"
             ],
             [
              0.2222222222222222,
              "#7201a8"
             ],
             [
              0.3333333333333333,
              "#9c179e"
             ],
             [
              0.4444444444444444,
              "#bd3786"
             ],
             [
              0.5555555555555556,
              "#d8576b"
             ],
             [
              0.6666666666666666,
              "#ed7953"
             ],
             [
              0.7777777777777778,
              "#fb9f3a"
             ],
             [
              0.8888888888888888,
              "#fdca26"
             ],
             [
              1,
              "#f0f921"
             ]
            ],
            "type": "contour"
           }
          ],
          "contourcarpet": [
           {
            "colorbar": {
             "outlinewidth": 0,
             "ticks": ""
            },
            "type": "contourcarpet"
           }
          ],
          "heatmap": [
           {
            "colorbar": {
             "outlinewidth": 0,
             "ticks": ""
            },
            "colorscale": [
             [
              0,
              "#0d0887"
             ],
             [
              0.1111111111111111,
              "#46039f"
             ],
             [
              0.2222222222222222,
              "#7201a8"
             ],
             [
              0.3333333333333333,
              "#9c179e"
             ],
             [
              0.4444444444444444,
              "#bd3786"
             ],
             [
              0.5555555555555556,
              "#d8576b"
             ],
             [
              0.6666666666666666,
              "#ed7953"
             ],
             [
              0.7777777777777778,
              "#fb9f3a"
             ],
             [
              0.8888888888888888,
              "#fdca26"
             ],
             [
              1,
              "#f0f921"
             ]
            ],
            "type": "heatmap"
           }
          ],
          "heatmapgl": [
           {
            "colorbar": {
             "outlinewidth": 0,
             "ticks": ""
            },
            "colorscale": [
             [
              0,
              "#0d0887"
             ],
             [
              0.1111111111111111,
              "#46039f"
             ],
             [
              0.2222222222222222,
              "#7201a8"
             ],
             [
              0.3333333333333333,
              "#9c179e"
             ],
             [
              0.4444444444444444,
              "#bd3786"
             ],
             [
              0.5555555555555556,
              "#d8576b"
             ],
             [
              0.6666666666666666,
              "#ed7953"
             ],
             [
              0.7777777777777778,
              "#fb9f3a"
             ],
             [
              0.8888888888888888,
              "#fdca26"
             ],
             [
              1,
              "#f0f921"
             ]
            ],
            "type": "heatmapgl"
           }
          ],
          "histogram": [
           {
            "marker": {
             "pattern": {
              "fillmode": "overlay",
              "size": 10,
              "solidity": 0.2
             }
            },
            "type": "histogram"
           }
          ],
          "histogram2d": [
           {
            "colorbar": {
             "outlinewidth": 0,
             "ticks": ""
            },
            "colorscale": [
             [
              0,
              "#0d0887"
             ],
             [
              0.1111111111111111,
              "#46039f"
             ],
             [
              0.2222222222222222,
              "#7201a8"
             ],
             [
              0.3333333333333333,
              "#9c179e"
             ],
             [
              0.4444444444444444,
              "#bd3786"
             ],
             [
              0.5555555555555556,
              "#d8576b"
             ],
             [
              0.6666666666666666,
              "#ed7953"
             ],
             [
              0.7777777777777778,
              "#fb9f3a"
             ],
             [
              0.8888888888888888,
              "#fdca26"
             ],
             [
              1,
              "#f0f921"
             ]
            ],
            "type": "histogram2d"
           }
          ],
          "histogram2dcontour": [
           {
            "colorbar": {
             "outlinewidth": 0,
             "ticks": ""
            },
            "colorscale": [
             [
              0,
              "#0d0887"
             ],
             [
              0.1111111111111111,
              "#46039f"
             ],
             [
              0.2222222222222222,
              "#7201a8"
             ],
             [
              0.3333333333333333,
              "#9c179e"
             ],
             [
              0.4444444444444444,
              "#bd3786"
             ],
             [
              0.5555555555555556,
              "#d8576b"
             ],
             [
              0.6666666666666666,
              "#ed7953"
             ],
             [
              0.7777777777777778,
              "#fb9f3a"
             ],
             [
              0.8888888888888888,
              "#fdca26"
             ],
             [
              1,
              "#f0f921"
             ]
            ],
            "type": "histogram2dcontour"
           }
          ],
          "mesh3d": [
           {
            "colorbar": {
             "outlinewidth": 0,
             "ticks": ""
            },
            "type": "mesh3d"
           }
          ],
          "parcoords": [
           {
            "line": {
             "colorbar": {
              "outlinewidth": 0,
              "ticks": ""
             }
            },
            "type": "parcoords"
           }
          ],
          "pie": [
           {
            "automargin": true,
            "type": "pie"
           }
          ],
          "scatter": [
           {
            "fillpattern": {
             "fillmode": "overlay",
             "size": 10,
             "solidity": 0.2
            },
            "type": "scatter"
           }
          ],
          "scatter3d": [
           {
            "line": {
             "colorbar": {
              "outlinewidth": 0,
              "ticks": ""
             }
            },
            "marker": {
             "colorbar": {
              "outlinewidth": 0,
              "ticks": ""
             }
            },
            "type": "scatter3d"
           }
          ],
          "scattercarpet": [
           {
            "marker": {
             "colorbar": {
              "outlinewidth": 0,
              "ticks": ""
             }
            },
            "type": "scattercarpet"
           }
          ],
          "scattergeo": [
           {
            "marker": {
             "colorbar": {
              "outlinewidth": 0,
              "ticks": ""
             }
            },
            "type": "scattergeo"
           }
          ],
          "scattergl": [
           {
            "marker": {
             "colorbar": {
              "outlinewidth": 0,
              "ticks": ""
             }
            },
            "type": "scattergl"
           }
          ],
          "scattermapbox": [
           {
            "marker": {
             "colorbar": {
              "outlinewidth": 0,
              "ticks": ""
             }
            },
            "type": "scattermapbox"
           }
          ],
          "scatterpolar": [
           {
            "marker": {
             "colorbar": {
              "outlinewidth": 0,
              "ticks": ""
             }
            },
            "type": "scatterpolar"
           }
          ],
          "scatterpolargl": [
           {
            "marker": {
             "colorbar": {
              "outlinewidth": 0,
              "ticks": ""
             }
            },
            "type": "scatterpolargl"
           }
          ],
          "scatterternary": [
           {
            "marker": {
             "colorbar": {
              "outlinewidth": 0,
              "ticks": ""
             }
            },
            "type": "scatterternary"
           }
          ],
          "surface": [
           {
            "colorbar": {
             "outlinewidth": 0,
             "ticks": ""
            },
            "colorscale": [
             [
              0,
              "#0d0887"
             ],
             [
              0.1111111111111111,
              "#46039f"
             ],
             [
              0.2222222222222222,
              "#7201a8"
             ],
             [
              0.3333333333333333,
              "#9c179e"
             ],
             [
              0.4444444444444444,
              "#bd3786"
             ],
             [
              0.5555555555555556,
              "#d8576b"
             ],
             [
              0.6666666666666666,
              "#ed7953"
             ],
             [
              0.7777777777777778,
              "#fb9f3a"
             ],
             [
              0.8888888888888888,
              "#fdca26"
             ],
             [
              1,
              "#f0f921"
             ]
            ],
            "type": "surface"
           }
          ],
          "table": [
           {
            "cells": {
             "fill": {
              "color": "#EBF0F8"
             },
             "line": {
              "color": "white"
             }
            },
            "header": {
             "fill": {
              "color": "#C8D4E3"
             },
             "line": {
              "color": "white"
             }
            },
            "type": "table"
           }
          ]
         },
         "layout": {
          "annotationdefaults": {
           "arrowcolor": "#2a3f5f",
           "arrowhead": 0,
           "arrowwidth": 1
          },
          "autotypenumbers": "strict",
          "coloraxis": {
           "colorbar": {
            "outlinewidth": 0,
            "ticks": ""
           }
          },
          "colorscale": {
           "diverging": [
            [
             0,
             "#8e0152"
            ],
            [
             0.1,
             "#c51b7d"
            ],
            [
             0.2,
             "#de77ae"
            ],
            [
             0.3,
             "#f1b6da"
            ],
            [
             0.4,
             "#fde0ef"
            ],
            [
             0.5,
             "#f7f7f7"
            ],
            [
             0.6,
             "#e6f5d0"
            ],
            [
             0.7,
             "#b8e186"
            ],
            [
             0.8,
             "#7fbc41"
            ],
            [
             0.9,
             "#4d9221"
            ],
            [
             1,
             "#276419"
            ]
           ],
           "sequential": [
            [
             0,
             "#0d0887"
            ],
            [
             0.1111111111111111,
             "#46039f"
            ],
            [
             0.2222222222222222,
             "#7201a8"
            ],
            [
             0.3333333333333333,
             "#9c179e"
            ],
            [
             0.4444444444444444,
             "#bd3786"
            ],
            [
             0.5555555555555556,
             "#d8576b"
            ],
            [
             0.6666666666666666,
             "#ed7953"
            ],
            [
             0.7777777777777778,
             "#fb9f3a"
            ],
            [
             0.8888888888888888,
             "#fdca26"
            ],
            [
             1,
             "#f0f921"
            ]
           ],
           "sequentialminus": [
            [
             0,
             "#0d0887"
            ],
            [
             0.1111111111111111,
             "#46039f"
            ],
            [
             0.2222222222222222,
             "#7201a8"
            ],
            [
             0.3333333333333333,
             "#9c179e"
            ],
            [
             0.4444444444444444,
             "#bd3786"
            ],
            [
             0.5555555555555556,
             "#d8576b"
            ],
            [
             0.6666666666666666,
             "#ed7953"
            ],
            [
             0.7777777777777778,
             "#fb9f3a"
            ],
            [
             0.8888888888888888,
             "#fdca26"
            ],
            [
             1,
             "#f0f921"
            ]
           ]
          },
          "colorway": [
           "#636efa",
           "#EF553B",
           "#00cc96",
           "#ab63fa",
           "#FFA15A",
           "#19d3f3",
           "#FF6692",
           "#B6E880",
           "#FF97FF",
           "#FECB52"
          ],
          "font": {
           "color": "#2a3f5f"
          },
          "geo": {
           "bgcolor": "white",
           "lakecolor": "white",
           "landcolor": "white",
           "showlakes": true,
           "showland": true,
           "subunitcolor": "#C8D4E3"
          },
          "hoverlabel": {
           "align": "left"
          },
          "hovermode": "closest",
          "mapbox": {
           "style": "light"
          },
          "paper_bgcolor": "white",
          "plot_bgcolor": "white",
          "polar": {
           "angularaxis": {
            "gridcolor": "#EBF0F8",
            "linecolor": "#EBF0F8",
            "ticks": ""
           },
           "bgcolor": "white",
           "radialaxis": {
            "gridcolor": "#EBF0F8",
            "linecolor": "#EBF0F8",
            "ticks": ""
           }
          },
          "scene": {
           "xaxis": {
            "backgroundcolor": "white",
            "gridcolor": "#DFE8F3",
            "gridwidth": 2,
            "linecolor": "#EBF0F8",
            "showbackground": true,
            "ticks": "",
            "zerolinecolor": "#EBF0F8"
           },
           "yaxis": {
            "backgroundcolor": "white",
            "gridcolor": "#DFE8F3",
            "gridwidth": 2,
            "linecolor": "#EBF0F8",
            "showbackground": true,
            "ticks": "",
            "zerolinecolor": "#EBF0F8"
           },
           "zaxis": {
            "backgroundcolor": "white",
            "gridcolor": "#DFE8F3",
            "gridwidth": 2,
            "linecolor": "#EBF0F8",
            "showbackground": true,
            "ticks": "",
            "zerolinecolor": "#EBF0F8"
           }
          },
          "shapedefaults": {
           "line": {
            "color": "#2a3f5f"
           }
          },
          "ternary": {
           "aaxis": {
            "gridcolor": "#DFE8F3",
            "linecolor": "#A2B1C6",
            "ticks": ""
           },
           "baxis": {
            "gridcolor": "#DFE8F3",
            "linecolor": "#A2B1C6",
            "ticks": ""
           },
           "bgcolor": "white",
           "caxis": {
            "gridcolor": "#DFE8F3",
            "linecolor": "#A2B1C6",
            "ticks": ""
           }
          },
          "title": {
           "x": 0.05
          },
          "xaxis": {
           "automargin": true,
           "gridcolor": "#EBF0F8",
           "linecolor": "#EBF0F8",
           "ticks": "",
           "title": {
            "standoff": 15
           },
           "zerolinecolor": "#EBF0F8",
           "zerolinewidth": 2
          },
          "yaxis": {
           "automargin": true,
           "gridcolor": "#EBF0F8",
           "linecolor": "#EBF0F8",
           "ticks": "",
           "title": {
            "standoff": 15
           },
           "zerolinecolor": "#EBF0F8",
           "zerolinewidth": 2
          }
         }
        },
        "title": {
         "text": "Histogram of Car Prices by Model"
        },
        "xaxis": {
         "anchor": "y",
         "domain": [
          0,
          1
         ],
         "title": {
          "text": "Model"
         }
        },
        "yaxis": {
         "anchor": "x",
         "domain": [
          0,
          1
         ],
         "title": {
          "text": "Market Capitalization"
         }
        }
       }
      }
     },
     "metadata": {},
     "output_type": "display_data"
    },
    {
     "name": "stdout",
     "output_type": "stream",
     "text": [
      "Vehicles in plot:  47906\n"
     ]
    },
    {
     "data": {
      "application/vnd.plotly.v1+json": {
       "config": {
        "plotlyServerURL": "https://plot.ly"
       },
       "data": [
        {
         "hovertemplate": "Model Year=%{x}<br>Average Vehicle Price=%{y}<extra></extra>",
         "legendgroup": "",
         "marker": {
          "color": "rgb(102, 197, 204)",
          "symbol": "circle"
         },
         "mode": "markers",
         "name": "",
         "orientation": "v",
         "showlegend": false,
         "type": "scatter",
         "x": [
          1908,
          1929,
          1936,
          1948,
          1949,
          1954,
          1955,
          1958,
          1960,
          1961,
          1962,
          1963,
          1964,
          1965,
          1966,
          1967,
          1968,
          1969,
          1970,
          1971,
          1972,
          1973,
          1974,
          1975,
          1976,
          1977,
          1978,
          1979,
          1980,
          1981,
          1982,
          1983,
          1984,
          1985,
          1986,
          1987,
          1988,
          1989,
          1990,
          1991,
          1992,
          1993,
          1994,
          1995,
          1996,
          1997,
          1998,
          1999,
          2000,
          2001,
          2002,
          2003,
          2004,
          2005,
          2006,
          2007,
          2008,
          2009,
          2010,
          2011,
          2012,
          2013,
          2014,
          2015,
          2016,
          2017,
          2018,
          2019
         ],
         "xaxis": "x",
         "y": [
          12995,
          18000,
          5000,
          21000,
          44900,
          15000,
          23900,
          36450,
          34166.666666666664,
          5500,
          44913.333333333336,
          28166.666666666668,
          34542.857142857145,
          21804.5,
          17394.608695652172,
          26485,
          20415,
          40210,
          27580,
          24742.14285714286,
          26660,
          18386.266666666666,
          5862.5,
          11278.57142857143,
          9766.333333333334,
          7199.615384615385,
          6970,
          11502.631578947368,
          13408.333333333334,
          7695,
          13527.222222222223,
          7035.714285714285,
          5902,
          7591.611111111111,
          5578.641025641025,
          7669.967741935484,
          5482.25,
          5893.758620689655,
          5838.9655172413795,
          4648.392156862745,
          5410.2807017543855,
          4683.611111111111,
          4701.889830508475,
          4343.027173913043,
          4643.4338624338625,
          4898.9021406727825,
          4520.195767195767,
          6212.600732600733,
          5085.404795486601,
          5150.439053254438,
          5733.137897782063,
          5871.4899095337505,
          6617.793263646922,
          6438.8108641975305,
          7592.977618621307,
          7691.0419977298525,
          8640.333789329685,
          8305.349206349207,
          9435.463768115942,
          11549.707851851852,
          11983.418685121107,
          13546.222597914906,
          15475.20939675174,
          18399.968101113453,
          19571.258632362897,
          20737.426209177345,
          24516.171454628362,
          26254.18157894737
         ],
         "yaxis": "y"
        }
       ],
       "layout": {
        "legend": {
         "tracegroupgap": 0
        },
        "template": {
         "data": {
          "bar": [
           {
            "error_x": {
             "color": "#2a3f5f"
            },
            "error_y": {
             "color": "#2a3f5f"
            },
            "marker": {
             "line": {
              "color": "white",
              "width": 0.5
             },
             "pattern": {
              "fillmode": "overlay",
              "size": 10,
              "solidity": 0.2
             }
            },
            "type": "bar"
           }
          ],
          "barpolar": [
           {
            "marker": {
             "line": {
              "color": "white",
              "width": 0.5
             },
             "pattern": {
              "fillmode": "overlay",
              "size": 10,
              "solidity": 0.2
             }
            },
            "type": "barpolar"
           }
          ],
          "carpet": [
           {
            "aaxis": {
             "endlinecolor": "#2a3f5f",
             "gridcolor": "#C8D4E3",
             "linecolor": "#C8D4E3",
             "minorgridcolor": "#C8D4E3",
             "startlinecolor": "#2a3f5f"
            },
            "baxis": {
             "endlinecolor": "#2a3f5f",
             "gridcolor": "#C8D4E3",
             "linecolor": "#C8D4E3",
             "minorgridcolor": "#C8D4E3",
             "startlinecolor": "#2a3f5f"
            },
            "type": "carpet"
           }
          ],
          "choropleth": [
           {
            "colorbar": {
             "outlinewidth": 0,
             "ticks": ""
            },
            "type": "choropleth"
           }
          ],
          "contour": [
           {
            "colorbar": {
             "outlinewidth": 0,
             "ticks": ""
            },
            "colorscale": [
             [
              0,
              "#0d0887"
             ],
             [
              0.1111111111111111,
              "#46039f"
             ],
             [
              0.2222222222222222,
              "#7201a8"
             ],
             [
              0.3333333333333333,
              "#9c179e"
             ],
             [
              0.4444444444444444,
              "#bd3786"
             ],
             [
              0.5555555555555556,
              "#d8576b"
             ],
             [
              0.6666666666666666,
              "#ed7953"
             ],
             [
              0.7777777777777778,
              "#fb9f3a"
             ],
             [
              0.8888888888888888,
              "#fdca26"
             ],
             [
              1,
              "#f0f921"
             ]
            ],
            "type": "contour"
           }
          ],
          "contourcarpet": [
           {
            "colorbar": {
             "outlinewidth": 0,
             "ticks": ""
            },
            "type": "contourcarpet"
           }
          ],
          "heatmap": [
           {
            "colorbar": {
             "outlinewidth": 0,
             "ticks": ""
            },
            "colorscale": [
             [
              0,
              "#0d0887"
             ],
             [
              0.1111111111111111,
              "#46039f"
             ],
             [
              0.2222222222222222,
              "#7201a8"
             ],
             [
              0.3333333333333333,
              "#9c179e"
             ],
             [
              0.4444444444444444,
              "#bd3786"
             ],
             [
              0.5555555555555556,
              "#d8576b"
             ],
             [
              0.6666666666666666,
              "#ed7953"
             ],
             [
              0.7777777777777778,
              "#fb9f3a"
             ],
             [
              0.8888888888888888,
              "#fdca26"
             ],
             [
              1,
              "#f0f921"
             ]
            ],
            "type": "heatmap"
           }
          ],
          "heatmapgl": [
           {
            "colorbar": {
             "outlinewidth": 0,
             "ticks": ""
            },
            "colorscale": [
             [
              0,
              "#0d0887"
             ],
             [
              0.1111111111111111,
              "#46039f"
             ],
             [
              0.2222222222222222,
              "#7201a8"
             ],
             [
              0.3333333333333333,
              "#9c179e"
             ],
             [
              0.4444444444444444,
              "#bd3786"
             ],
             [
              0.5555555555555556,
              "#d8576b"
             ],
             [
              0.6666666666666666,
              "#ed7953"
             ],
             [
              0.7777777777777778,
              "#fb9f3a"
             ],
             [
              0.8888888888888888,
              "#fdca26"
             ],
             [
              1,
              "#f0f921"
             ]
            ],
            "type": "heatmapgl"
           }
          ],
          "histogram": [
           {
            "marker": {
             "pattern": {
              "fillmode": "overlay",
              "size": 10,
              "solidity": 0.2
             }
            },
            "type": "histogram"
           }
          ],
          "histogram2d": [
           {
            "colorbar": {
             "outlinewidth": 0,
             "ticks": ""
            },
            "colorscale": [
             [
              0,
              "#0d0887"
             ],
             [
              0.1111111111111111,
              "#46039f"
             ],
             [
              0.2222222222222222,
              "#7201a8"
             ],
             [
              0.3333333333333333,
              "#9c179e"
             ],
             [
              0.4444444444444444,
              "#bd3786"
             ],
             [
              0.5555555555555556,
              "#d8576b"
             ],
             [
              0.6666666666666666,
              "#ed7953"
             ],
             [
              0.7777777777777778,
              "#fb9f3a"
             ],
             [
              0.8888888888888888,
              "#fdca26"
             ],
             [
              1,
              "#f0f921"
             ]
            ],
            "type": "histogram2d"
           }
          ],
          "histogram2dcontour": [
           {
            "colorbar": {
             "outlinewidth": 0,
             "ticks": ""
            },
            "colorscale": [
             [
              0,
              "#0d0887"
             ],
             [
              0.1111111111111111,
              "#46039f"
             ],
             [
              0.2222222222222222,
              "#7201a8"
             ],
             [
              0.3333333333333333,
              "#9c179e"
             ],
             [
              0.4444444444444444,
              "#bd3786"
             ],
             [
              0.5555555555555556,
              "#d8576b"
             ],
             [
              0.6666666666666666,
              "#ed7953"
             ],
             [
              0.7777777777777778,
              "#fb9f3a"
             ],
             [
              0.8888888888888888,
              "#fdca26"
             ],
             [
              1,
              "#f0f921"
             ]
            ],
            "type": "histogram2dcontour"
           }
          ],
          "mesh3d": [
           {
            "colorbar": {
             "outlinewidth": 0,
             "ticks": ""
            },
            "type": "mesh3d"
           }
          ],
          "parcoords": [
           {
            "line": {
             "colorbar": {
              "outlinewidth": 0,
              "ticks": ""
             }
            },
            "type": "parcoords"
           }
          ],
          "pie": [
           {
            "automargin": true,
            "type": "pie"
           }
          ],
          "scatter": [
           {
            "fillpattern": {
             "fillmode": "overlay",
             "size": 10,
             "solidity": 0.2
            },
            "type": "scatter"
           }
          ],
          "scatter3d": [
           {
            "line": {
             "colorbar": {
              "outlinewidth": 0,
              "ticks": ""
             }
            },
            "marker": {
             "colorbar": {
              "outlinewidth": 0,
              "ticks": ""
             }
            },
            "type": "scatter3d"
           }
          ],
          "scattercarpet": [
           {
            "marker": {
             "colorbar": {
              "outlinewidth": 0,
              "ticks": ""
             }
            },
            "type": "scattercarpet"
           }
          ],
          "scattergeo": [
           {
            "marker": {
             "colorbar": {
              "outlinewidth": 0,
              "ticks": ""
             }
            },
            "type": "scattergeo"
           }
          ],
          "scattergl": [
           {
            "marker": {
             "colorbar": {
              "outlinewidth": 0,
              "ticks": ""
             }
            },
            "type": "scattergl"
           }
          ],
          "scattermapbox": [
           {
            "marker": {
             "colorbar": {
              "outlinewidth": 0,
              "ticks": ""
             }
            },
            "type": "scattermapbox"
           }
          ],
          "scatterpolar": [
           {
            "marker": {
             "colorbar": {
              "outlinewidth": 0,
              "ticks": ""
             }
            },
            "type": "scatterpolar"
           }
          ],
          "scatterpolargl": [
           {
            "marker": {
             "colorbar": {
              "outlinewidth": 0,
              "ticks": ""
             }
            },
            "type": "scatterpolargl"
           }
          ],
          "scatterternary": [
           {
            "marker": {
             "colorbar": {
              "outlinewidth": 0,
              "ticks": ""
             }
            },
            "type": "scatterternary"
           }
          ],
          "surface": [
           {
            "colorbar": {
             "outlinewidth": 0,
             "ticks": ""
            },
            "colorscale": [
             [
              0,
              "#0d0887"
             ],
             [
              0.1111111111111111,
              "#46039f"
             ],
             [
              0.2222222222222222,
              "#7201a8"
             ],
             [
              0.3333333333333333,
              "#9c179e"
             ],
             [
              0.4444444444444444,
              "#bd3786"
             ],
             [
              0.5555555555555556,
              "#d8576b"
             ],
             [
              0.6666666666666666,
              "#ed7953"
             ],
             [
              0.7777777777777778,
              "#fb9f3a"
             ],
             [
              0.8888888888888888,
              "#fdca26"
             ],
             [
              1,
              "#f0f921"
             ]
            ],
            "type": "surface"
           }
          ],
          "table": [
           {
            "cells": {
             "fill": {
              "color": "#EBF0F8"
             },
             "line": {
              "color": "white"
             }
            },
            "header": {
             "fill": {
              "color": "#C8D4E3"
             },
             "line": {
              "color": "white"
             }
            },
            "type": "table"
           }
          ]
         },
         "layout": {
          "annotationdefaults": {
           "arrowcolor": "#2a3f5f",
           "arrowhead": 0,
           "arrowwidth": 1
          },
          "autotypenumbers": "strict",
          "coloraxis": {
           "colorbar": {
            "outlinewidth": 0,
            "ticks": ""
           }
          },
          "colorscale": {
           "diverging": [
            [
             0,
             "#8e0152"
            ],
            [
             0.1,
             "#c51b7d"
            ],
            [
             0.2,
             "#de77ae"
            ],
            [
             0.3,
             "#f1b6da"
            ],
            [
             0.4,
             "#fde0ef"
            ],
            [
             0.5,
             "#f7f7f7"
            ],
            [
             0.6,
             "#e6f5d0"
            ],
            [
             0.7,
             "#b8e186"
            ],
            [
             0.8,
             "#7fbc41"
            ],
            [
             0.9,
             "#4d9221"
            ],
            [
             1,
             "#276419"
            ]
           ],
           "sequential": [
            [
             0,
             "#0d0887"
            ],
            [
             0.1111111111111111,
             "#46039f"
            ],
            [
             0.2222222222222222,
             "#7201a8"
            ],
            [
             0.3333333333333333,
             "#9c179e"
            ],
            [
             0.4444444444444444,
             "#bd3786"
            ],
            [
             0.5555555555555556,
             "#d8576b"
            ],
            [
             0.6666666666666666,
             "#ed7953"
            ],
            [
             0.7777777777777778,
             "#fb9f3a"
            ],
            [
             0.8888888888888888,
             "#fdca26"
            ],
            [
             1,
             "#f0f921"
            ]
           ],
           "sequentialminus": [
            [
             0,
             "#0d0887"
            ],
            [
             0.1111111111111111,
             "#46039f"
            ],
            [
             0.2222222222222222,
             "#7201a8"
            ],
            [
             0.3333333333333333,
             "#9c179e"
            ],
            [
             0.4444444444444444,
             "#bd3786"
            ],
            [
             0.5555555555555556,
             "#d8576b"
            ],
            [
             0.6666666666666666,
             "#ed7953"
            ],
            [
             0.7777777777777778,
             "#fb9f3a"
            ],
            [
             0.8888888888888888,
             "#fdca26"
            ],
            [
             1,
             "#f0f921"
            ]
           ]
          },
          "colorway": [
           "#636efa",
           "#EF553B",
           "#00cc96",
           "#ab63fa",
           "#FFA15A",
           "#19d3f3",
           "#FF6692",
           "#B6E880",
           "#FF97FF",
           "#FECB52"
          ],
          "font": {
           "color": "#2a3f5f"
          },
          "geo": {
           "bgcolor": "white",
           "lakecolor": "white",
           "landcolor": "white",
           "showlakes": true,
           "showland": true,
           "subunitcolor": "#C8D4E3"
          },
          "hoverlabel": {
           "align": "left"
          },
          "hovermode": "closest",
          "mapbox": {
           "style": "light"
          },
          "paper_bgcolor": "white",
          "plot_bgcolor": "white",
          "polar": {
           "angularaxis": {
            "gridcolor": "#EBF0F8",
            "linecolor": "#EBF0F8",
            "ticks": ""
           },
           "bgcolor": "white",
           "radialaxis": {
            "gridcolor": "#EBF0F8",
            "linecolor": "#EBF0F8",
            "ticks": ""
           }
          },
          "scene": {
           "xaxis": {
            "backgroundcolor": "white",
            "gridcolor": "#DFE8F3",
            "gridwidth": 2,
            "linecolor": "#EBF0F8",
            "showbackground": true,
            "ticks": "",
            "zerolinecolor": "#EBF0F8"
           },
           "yaxis": {
            "backgroundcolor": "white",
            "gridcolor": "#DFE8F3",
            "gridwidth": 2,
            "linecolor": "#EBF0F8",
            "showbackground": true,
            "ticks": "",
            "zerolinecolor": "#EBF0F8"
           },
           "zaxis": {
            "backgroundcolor": "white",
            "gridcolor": "#DFE8F3",
            "gridwidth": 2,
            "linecolor": "#EBF0F8",
            "showbackground": true,
            "ticks": "",
            "zerolinecolor": "#EBF0F8"
           }
          },
          "shapedefaults": {
           "line": {
            "color": "#2a3f5f"
           }
          },
          "ternary": {
           "aaxis": {
            "gridcolor": "#DFE8F3",
            "linecolor": "#A2B1C6",
            "ticks": ""
           },
           "baxis": {
            "gridcolor": "#DFE8F3",
            "linecolor": "#A2B1C6",
            "ticks": ""
           },
           "bgcolor": "white",
           "caxis": {
            "gridcolor": "#DFE8F3",
            "linecolor": "#A2B1C6",
            "ticks": ""
           }
          },
          "title": {
           "x": 0.05
          },
          "xaxis": {
           "automargin": true,
           "gridcolor": "#EBF0F8",
           "linecolor": "#EBF0F8",
           "ticks": "",
           "title": {
            "standoff": 15
           },
           "zerolinecolor": "#EBF0F8",
           "zerolinewidth": 2
          },
          "yaxis": {
           "automargin": true,
           "gridcolor": "#EBF0F8",
           "linecolor": "#EBF0F8",
           "ticks": "",
           "title": {
            "standoff": 15
           },
           "zerolinecolor": "#EBF0F8",
           "zerolinewidth": 2
          }
         }
        },
        "title": {
         "text": "Scatterplot of Car Prices over Years"
        },
        "xaxis": {
         "anchor": "y",
         "domain": [
          0,
          1
         ],
         "title": {
          "text": "Model Year"
         }
        },
        "yaxis": {
         "anchor": "x",
         "domain": [
          0,
          1
         ],
         "title": {
          "text": "Average Vehicle Price"
         }
        }
       }
      }
     },
     "metadata": {},
     "output_type": "display_data"
    },
    {
     "name": "stdout",
     "output_type": "stream",
     "text": [
      "Vehicles in plot:  47906\n"
     ]
    },
    {
     "data": {
      "application/vnd.plotly.v1+json": {
       "config": {
        "plotlyServerURL": "https://plot.ly"
       },
       "data": [
        {
         "hovertemplate": "Model Year=%{x}<br>Market Capitalization=%{y}<extra></extra>",
         "legendgroup": "",
         "marker": {
          "color": "rgb(102, 197, 204)",
          "symbol": "circle"
         },
         "mode": "markers",
         "name": "",
         "orientation": "v",
         "showlegend": false,
         "type": "scatter",
         "x": [
          1908,
          1929,
          1936,
          1948,
          1949,
          1954,
          1955,
          1958,
          1960,
          1961,
          1962,
          1963,
          1964,
          1965,
          1966,
          1967,
          1968,
          1969,
          1970,
          1971,
          1972,
          1973,
          1974,
          1975,
          1976,
          1977,
          1978,
          1979,
          1980,
          1981,
          1982,
          1983,
          1984,
          1985,
          1986,
          1987,
          1988,
          1989,
          1990,
          1991,
          1992,
          1993,
          1994,
          1995,
          1996,
          1997,
          1998,
          1999,
          2000,
          2001,
          2002,
          2003,
          2004,
          2005,
          2006,
          2007,
          2008,
          2009,
          2010,
          2011,
          2012,
          2013,
          2014,
          2015,
          2016,
          2017,
          2018,
          2019
         ],
         "xaxis": "x",
         "y": [
          25990,
          18000,
          5000,
          21000,
          44900,
          15000,
          23900,
          72900,
          102500,
          5500,
          134740,
          84500,
          241800,
          218045,
          400076,
          185395,
          326640,
          402100,
          275800,
          173195,
          133300,
          275794,
          23450,
          78950,
          29299,
          93595,
          104550,
          218550,
          160900,
          76950,
          121745,
          49250,
          118040,
          136649,
          217567,
          237769,
          219290,
          341838,
          338660,
          237068,
          308386,
          505830,
          554823,
          799117,
          877609,
          1601941,
          1708634,
          3392080,
          3605552,
          4352121,
          5945264,
          8437331,
          11395840,
          13038592,
          16962712,
          20327424,
          25264336,
          17266821,
          25390833,
          38980264,
          41558496,
          48075544,
          53358522,
          61143094,
          57813498,
          50163834,
          53763964,
          9976589
         ],
         "yaxis": "y"
        }
       ],
       "layout": {
        "legend": {
         "tracegroupgap": 0
        },
        "template": {
         "data": {
          "bar": [
           {
            "error_x": {
             "color": "#2a3f5f"
            },
            "error_y": {
             "color": "#2a3f5f"
            },
            "marker": {
             "line": {
              "color": "white",
              "width": 0.5
             },
             "pattern": {
              "fillmode": "overlay",
              "size": 10,
              "solidity": 0.2
             }
            },
            "type": "bar"
           }
          ],
          "barpolar": [
           {
            "marker": {
             "line": {
              "color": "white",
              "width": 0.5
             },
             "pattern": {
              "fillmode": "overlay",
              "size": 10,
              "solidity": 0.2
             }
            },
            "type": "barpolar"
           }
          ],
          "carpet": [
           {
            "aaxis": {
             "endlinecolor": "#2a3f5f",
             "gridcolor": "#C8D4E3",
             "linecolor": "#C8D4E3",
             "minorgridcolor": "#C8D4E3",
             "startlinecolor": "#2a3f5f"
            },
            "baxis": {
             "endlinecolor": "#2a3f5f",
             "gridcolor": "#C8D4E3",
             "linecolor": "#C8D4E3",
             "minorgridcolor": "#C8D4E3",
             "startlinecolor": "#2a3f5f"
            },
            "type": "carpet"
           }
          ],
          "choropleth": [
           {
            "colorbar": {
             "outlinewidth": 0,
             "ticks": ""
            },
            "type": "choropleth"
           }
          ],
          "contour": [
           {
            "colorbar": {
             "outlinewidth": 0,
             "ticks": ""
            },
            "colorscale": [
             [
              0,
              "#0d0887"
             ],
             [
              0.1111111111111111,
              "#46039f"
             ],
             [
              0.2222222222222222,
              "#7201a8"
             ],
             [
              0.3333333333333333,
              "#9c179e"
             ],
             [
              0.4444444444444444,
              "#bd3786"
             ],
             [
              0.5555555555555556,
              "#d8576b"
             ],
             [
              0.6666666666666666,
              "#ed7953"
             ],
             [
              0.7777777777777778,
              "#fb9f3a"
             ],
             [
              0.8888888888888888,
              "#fdca26"
             ],
             [
              1,
              "#f0f921"
             ]
            ],
            "type": "contour"
           }
          ],
          "contourcarpet": [
           {
            "colorbar": {
             "outlinewidth": 0,
             "ticks": ""
            },
            "type": "contourcarpet"
           }
          ],
          "heatmap": [
           {
            "colorbar": {
             "outlinewidth": 0,
             "ticks": ""
            },
            "colorscale": [
             [
              0,
              "#0d0887"
             ],
             [
              0.1111111111111111,
              "#46039f"
             ],
             [
              0.2222222222222222,
              "#7201a8"
             ],
             [
              0.3333333333333333,
              "#9c179e"
             ],
             [
              0.4444444444444444,
              "#bd3786"
             ],
             [
              0.5555555555555556,
              "#d8576b"
             ],
             [
              0.6666666666666666,
              "#ed7953"
             ],
             [
              0.7777777777777778,
              "#fb9f3a"
             ],
             [
              0.8888888888888888,
              "#fdca26"
             ],
             [
              1,
              "#f0f921"
             ]
            ],
            "type": "heatmap"
           }
          ],
          "heatmapgl": [
           {
            "colorbar": {
             "outlinewidth": 0,
             "ticks": ""
            },
            "colorscale": [
             [
              0,
              "#0d0887"
             ],
             [
              0.1111111111111111,
              "#46039f"
             ],
             [
              0.2222222222222222,
              "#7201a8"
             ],
             [
              0.3333333333333333,
              "#9c179e"
             ],
             [
              0.4444444444444444,
              "#bd3786"
             ],
             [
              0.5555555555555556,
              "#d8576b"
             ],
             [
              0.6666666666666666,
              "#ed7953"
             ],
             [
              0.7777777777777778,
              "#fb9f3a"
             ],
             [
              0.8888888888888888,
              "#fdca26"
             ],
             [
              1,
              "#f0f921"
             ]
            ],
            "type": "heatmapgl"
           }
          ],
          "histogram": [
           {
            "marker": {
             "pattern": {
              "fillmode": "overlay",
              "size": 10,
              "solidity": 0.2
             }
            },
            "type": "histogram"
           }
          ],
          "histogram2d": [
           {
            "colorbar": {
             "outlinewidth": 0,
             "ticks": ""
            },
            "colorscale": [
             [
              0,
              "#0d0887"
             ],
             [
              0.1111111111111111,
              "#46039f"
             ],
             [
              0.2222222222222222,
              "#7201a8"
             ],
             [
              0.3333333333333333,
              "#9c179e"
             ],
             [
              0.4444444444444444,
              "#bd3786"
             ],
             [
              0.5555555555555556,
              "#d8576b"
             ],
             [
              0.6666666666666666,
              "#ed7953"
             ],
             [
              0.7777777777777778,
              "#fb9f3a"
             ],
             [
              0.8888888888888888,
              "#fdca26"
             ],
             [
              1,
              "#f0f921"
             ]
            ],
            "type": "histogram2d"
           }
          ],
          "histogram2dcontour": [
           {
            "colorbar": {
             "outlinewidth": 0,
             "ticks": ""
            },
            "colorscale": [
             [
              0,
              "#0d0887"
             ],
             [
              0.1111111111111111,
              "#46039f"
             ],
             [
              0.2222222222222222,
              "#7201a8"
             ],
             [
              0.3333333333333333,
              "#9c179e"
             ],
             [
              0.4444444444444444,
              "#bd3786"
             ],
             [
              0.5555555555555556,
              "#d8576b"
             ],
             [
              0.6666666666666666,
              "#ed7953"
             ],
             [
              0.7777777777777778,
              "#fb9f3a"
             ],
             [
              0.8888888888888888,
              "#fdca26"
             ],
             [
              1,
              "#f0f921"
             ]
            ],
            "type": "histogram2dcontour"
           }
          ],
          "mesh3d": [
           {
            "colorbar": {
             "outlinewidth": 0,
             "ticks": ""
            },
            "type": "mesh3d"
           }
          ],
          "parcoords": [
           {
            "line": {
             "colorbar": {
              "outlinewidth": 0,
              "ticks": ""
             }
            },
            "type": "parcoords"
           }
          ],
          "pie": [
           {
            "automargin": true,
            "type": "pie"
           }
          ],
          "scatter": [
           {
            "fillpattern": {
             "fillmode": "overlay",
             "size": 10,
             "solidity": 0.2
            },
            "type": "scatter"
           }
          ],
          "scatter3d": [
           {
            "line": {
             "colorbar": {
              "outlinewidth": 0,
              "ticks": ""
             }
            },
            "marker": {
             "colorbar": {
              "outlinewidth": 0,
              "ticks": ""
             }
            },
            "type": "scatter3d"
           }
          ],
          "scattercarpet": [
           {
            "marker": {
             "colorbar": {
              "outlinewidth": 0,
              "ticks": ""
             }
            },
            "type": "scattercarpet"
           }
          ],
          "scattergeo": [
           {
            "marker": {
             "colorbar": {
              "outlinewidth": 0,
              "ticks": ""
             }
            },
            "type": "scattergeo"
           }
          ],
          "scattergl": [
           {
            "marker": {
             "colorbar": {
              "outlinewidth": 0,
              "ticks": ""
             }
            },
            "type": "scattergl"
           }
          ],
          "scattermapbox": [
           {
            "marker": {
             "colorbar": {
              "outlinewidth": 0,
              "ticks": ""
             }
            },
            "type": "scattermapbox"
           }
          ],
          "scatterpolar": [
           {
            "marker": {
             "colorbar": {
              "outlinewidth": 0,
              "ticks": ""
             }
            },
            "type": "scatterpolar"
           }
          ],
          "scatterpolargl": [
           {
            "marker": {
             "colorbar": {
              "outlinewidth": 0,
              "ticks": ""
             }
            },
            "type": "scatterpolargl"
           }
          ],
          "scatterternary": [
           {
            "marker": {
             "colorbar": {
              "outlinewidth": 0,
              "ticks": ""
             }
            },
            "type": "scatterternary"
           }
          ],
          "surface": [
           {
            "colorbar": {
             "outlinewidth": 0,
             "ticks": ""
            },
            "colorscale": [
             [
              0,
              "#0d0887"
             ],
             [
              0.1111111111111111,
              "#46039f"
             ],
             [
              0.2222222222222222,
              "#7201a8"
             ],
             [
              0.3333333333333333,
              "#9c179e"
             ],
             [
              0.4444444444444444,
              "#bd3786"
             ],
             [
              0.5555555555555556,
              "#d8576b"
             ],
             [
              0.6666666666666666,
              "#ed7953"
             ],
             [
              0.7777777777777778,
              "#fb9f3a"
             ],
             [
              0.8888888888888888,
              "#fdca26"
             ],
             [
              1,
              "#f0f921"
             ]
            ],
            "type": "surface"
           }
          ],
          "table": [
           {
            "cells": {
             "fill": {
              "color": "#EBF0F8"
             },
             "line": {
              "color": "white"
             }
            },
            "header": {
             "fill": {
              "color": "#C8D4E3"
             },
             "line": {
              "color": "white"
             }
            },
            "type": "table"
           }
          ]
         },
         "layout": {
          "annotationdefaults": {
           "arrowcolor": "#2a3f5f",
           "arrowhead": 0,
           "arrowwidth": 1
          },
          "autotypenumbers": "strict",
          "coloraxis": {
           "colorbar": {
            "outlinewidth": 0,
            "ticks": ""
           }
          },
          "colorscale": {
           "diverging": [
            [
             0,
             "#8e0152"
            ],
            [
             0.1,
             "#c51b7d"
            ],
            [
             0.2,
             "#de77ae"
            ],
            [
             0.3,
             "#f1b6da"
            ],
            [
             0.4,
             "#fde0ef"
            ],
            [
             0.5,
             "#f7f7f7"
            ],
            [
             0.6,
             "#e6f5d0"
            ],
            [
             0.7,
             "#b8e186"
            ],
            [
             0.8,
             "#7fbc41"
            ],
            [
             0.9,
             "#4d9221"
            ],
            [
             1,
             "#276419"
            ]
           ],
           "sequential": [
            [
             0,
             "#0d0887"
            ],
            [
             0.1111111111111111,
             "#46039f"
            ],
            [
             0.2222222222222222,
             "#7201a8"
            ],
            [
             0.3333333333333333,
             "#9c179e"
            ],
            [
             0.4444444444444444,
             "#bd3786"
            ],
            [
             0.5555555555555556,
             "#d8576b"
            ],
            [
             0.6666666666666666,
             "#ed7953"
            ],
            [
             0.7777777777777778,
             "#fb9f3a"
            ],
            [
             0.8888888888888888,
             "#fdca26"
            ],
            [
             1,
             "#f0f921"
            ]
           ],
           "sequentialminus": [
            [
             0,
             "#0d0887"
            ],
            [
             0.1111111111111111,
             "#46039f"
            ],
            [
             0.2222222222222222,
             "#7201a8"
            ],
            [
             0.3333333333333333,
             "#9c179e"
            ],
            [
             0.4444444444444444,
             "#bd3786"
            ],
            [
             0.5555555555555556,
             "#d8576b"
            ],
            [
             0.6666666666666666,
             "#ed7953"
            ],
            [
             0.7777777777777778,
             "#fb9f3a"
            ],
            [
             0.8888888888888888,
             "#fdca26"
            ],
            [
             1,
             "#f0f921"
            ]
           ]
          },
          "colorway": [
           "#636efa",
           "#EF553B",
           "#00cc96",
           "#ab63fa",
           "#FFA15A",
           "#19d3f3",
           "#FF6692",
           "#B6E880",
           "#FF97FF",
           "#FECB52"
          ],
          "font": {
           "color": "#2a3f5f"
          },
          "geo": {
           "bgcolor": "white",
           "lakecolor": "white",
           "landcolor": "white",
           "showlakes": true,
           "showland": true,
           "subunitcolor": "#C8D4E3"
          },
          "hoverlabel": {
           "align": "left"
          },
          "hovermode": "closest",
          "mapbox": {
           "style": "light"
          },
          "paper_bgcolor": "white",
          "plot_bgcolor": "white",
          "polar": {
           "angularaxis": {
            "gridcolor": "#EBF0F8",
            "linecolor": "#EBF0F8",
            "ticks": ""
           },
           "bgcolor": "white",
           "radialaxis": {
            "gridcolor": "#EBF0F8",
            "linecolor": "#EBF0F8",
            "ticks": ""
           }
          },
          "scene": {
           "xaxis": {
            "backgroundcolor": "white",
            "gridcolor": "#DFE8F3",
            "gridwidth": 2,
            "linecolor": "#EBF0F8",
            "showbackground": true,
            "ticks": "",
            "zerolinecolor": "#EBF0F8"
           },
           "yaxis": {
            "backgroundcolor": "white",
            "gridcolor": "#DFE8F3",
            "gridwidth": 2,
            "linecolor": "#EBF0F8",
            "showbackground": true,
            "ticks": "",
            "zerolinecolor": "#EBF0F8"
           },
           "zaxis": {
            "backgroundcolor": "white",
            "gridcolor": "#DFE8F3",
            "gridwidth": 2,
            "linecolor": "#EBF0F8",
            "showbackground": true,
            "ticks": "",
            "zerolinecolor": "#EBF0F8"
           }
          },
          "shapedefaults": {
           "line": {
            "color": "#2a3f5f"
           }
          },
          "ternary": {
           "aaxis": {
            "gridcolor": "#DFE8F3",
            "linecolor": "#A2B1C6",
            "ticks": ""
           },
           "baxis": {
            "gridcolor": "#DFE8F3",
            "linecolor": "#A2B1C6",
            "ticks": ""
           },
           "bgcolor": "white",
           "caxis": {
            "gridcolor": "#DFE8F3",
            "linecolor": "#A2B1C6",
            "ticks": ""
           }
          },
          "title": {
           "x": 0.05
          },
          "xaxis": {
           "automargin": true,
           "gridcolor": "#EBF0F8",
           "linecolor": "#EBF0F8",
           "ticks": "",
           "title": {
            "standoff": 15
           },
           "zerolinecolor": "#EBF0F8",
           "zerolinewidth": 2
          },
          "yaxis": {
           "automargin": true,
           "gridcolor": "#EBF0F8",
           "linecolor": "#EBF0F8",
           "ticks": "",
           "title": {
            "standoff": 15
           },
           "zerolinecolor": "#EBF0F8",
           "zerolinewidth": 2
          }
         }
        },
        "title": {
         "text": "Scatterplot of Car Prices over Years"
        },
        "xaxis": {
         "anchor": "y",
         "domain": [
          0,
          1
         ],
         "title": {
          "text": "Model Year"
         }
        },
        "yaxis": {
         "anchor": "x",
         "domain": [
          0,
          1
         ],
         "title": {
          "text": "Market Capitalization"
         }
        }
       }
      }
     },
     "metadata": {},
     "output_type": "display_data"
    },
    {
     "name": "stdout",
     "output_type": "stream",
     "text": [
      "Vehicles in plot:  47906\n"
     ]
    }
   ],
   "source": [
    "def plot_histogram_price_filtered(df, model_year=None, cylinders=None, condition=None, fuel=None, transmission=None, \n",
    "                                  car_type=None, paint_color=None, is_4wd=None, models=None, aggregation='Average Vehicle Price'):\n",
    "    \"\"\"\n",
    "    Plots a histogram of car prices by model with optional filters.\n",
    "\n",
    "    Parameters:\n",
    "    df (pd.DataFrame): The input DataFrame.\n",
    "    model_year (list or int, optional): The specific model year(s) to filter and plot. Defaults to None.\n",
    "    cylinders (list or int, optional): The number of cylinders to filter and plot. Defaults to None.\n",
    "    condition (list or str, optional): The condition of the car to filter and plot. Defaults to None.\n",
    "    fuel (list or str, optional): The type of fuel to filter and plot. Defaults to None.\n",
    "    transmission (list or str, optional): The type of transmission to filter and plot. Defaults to None.\n",
    "    car_type (list or str, optional): The type of car to filter and plot. Defaults to None.\n",
    "    paint_color (list or str, optional): The paint color of the car to filter and plot. Defaults to None.\n",
    "    is_4wd (list or bool, optional): Whether the car is 4WD to filter and plot. Defaults to None.\n",
    "    models (list of str, optional): List of substrings to filter models. Defaults to None.\n",
    "    aggregation (str, optional): The aggregation method for price ('Average Price' or 'Market Capitalization'). Defaults to 'Average Price'.\n",
    "    \"\"\"\n",
    "    # Apply filters\n",
    "    filters_applied = {\n",
    "        'model_year': model_year,\n",
    "        'cylinders': cylinders,\n",
    "        'condition': condition,\n",
    "        'fuel': fuel,\n",
    "        'transmission': transmission,\n",
    "        'car_type': car_type,\n",
    "        'paint_color': paint_color,\n",
    "        'is_4wd': is_4wd,\n",
    "        'models': models\n",
    "    }\n",
    "\n",
    "    # Treat empty lists as None\n",
    "    for key, value in filters_applied.items():\n",
    "        if isinstance(value, list) and len(value) == 0:\n",
    "            filters_applied[key] = None\n",
    "\n",
    "    if filters_applied['model_year'] is not None:\n",
    "        if isinstance(filters_applied['model_year'], list):\n",
    "            df = df[df['model_year'].isin(filters_applied['model_year'])]\n",
    "        else:\n",
    "            df = df[df['model_year'] == filters_applied['model_year']]\n",
    "    if filters_applied['cylinders'] is not None:\n",
    "        if isinstance(filters_applied['cylinders'], list):\n",
    "            df = df[df['cylinders'].isin(filters_applied['cylinders'])]\n",
    "        else:\n",
    "            df = df[df['cylinders'] == filters_applied['cylinders']]\n",
    "    if filters_applied['condition'] is not None:\n",
    "        if isinstance(filters_applied['condition'], list):\n",
    "            df = df[df['condition'].isin(filters_applied['condition'])]\n",
    "        else:\n",
    "            df = df[df['condition'] == filters_applied['condition']]\n",
    "    if filters_applied['fuel'] is not None:\n",
    "        if isinstance(filters_applied['fuel'], list):\n",
    "            df = df[df['fuel'].isin(filters_applied['fuel'])]\n",
    "        else:\n",
    "            df = df[df['fuel'] == filters_applied['fuel']]\n",
    "    if filters_applied['transmission'] is not None:\n",
    "        if isinstance(filters_applied['transmission'], list):\n",
    "            df = df[df['transmission'].isin(filters_applied['transmission'])]\n",
    "        else:\n",
    "            df = df[df['transmission'] == filters_applied['transmission']]\n",
    "    if filters_applied['car_type'] is not None:\n",
    "        if isinstance(filters_applied['car_type'], list):\n",
    "            df = df[df['type'].isin(filters_applied['car_type'])]\n",
    "        else:\n",
    "            df = df[df['type'] == filters_applied['car_type']]\n",
    "    if filters_applied['paint_color'] is not None:\n",
    "        if isinstance(filters_applied['paint_color'], list):\n",
    "            df = df[df['paint_color'].isin(filters_applied['paint_color'])]\n",
    "        else:\n",
    "            df = df[df['paint_color'] == filters_applied['paint_color']]\n",
    "    if filters_applied['is_4wd'] is not None:\n",
    "        if isinstance(filters_applied['is_4wd'], list):\n",
    "            df = df[df['is_4wd'].isin(filters_applied['is_4wd'])]\n",
    "        else:\n",
    "            df = df[df['is_4wd'] == filters_applied['is_4wd']]\n",
    "    if filters_applied['models'] is not None:\n",
    "        model_pattern = '|'.join(filters_applied['models'])\n",
    "        df = df[df['model'].str.contains(model_pattern, case=False, na=False)]\n",
    "    \n",
    "    # Set the aggregation function for price\n",
    "    if aggregation == 'Average Vehicle Price':\n",
    "        df_grouped = df.groupby('model')['price'].mean().reset_index()\n",
    "        y_title = 'Average Vehicle Price'\n",
    "    else:\n",
    "        df_grouped = df.groupby('model')['price'].sum().reset_index()\n",
    "        y_title = 'Market Capitalization'\n",
    "    \n",
    "    # Create the bar chart\n",
    "    fig = px.bar(df_grouped, x='model', y='price',\n",
    "                 title=\"Histogram of Car Prices by Model\" + (f\" for {filters_applied['model_year']}\" if filters_applied['model_year'] else \"\"),\n",
    "                 color_discrete_sequence=px.colors.qualitative.Pastel)\n",
    "    fig.update_layout(xaxis_title='Model', yaxis_title=y_title, template='plotly_white')\n",
    "\n",
    "    return fig, len(df)\n",
    "\n",
    "\n",
    "\n",
    "#Scatterplot\n",
    "\n",
    "def plot_scatterplot_price_year(df, model_year=None, cylinders=None, condition=None, fuel=None, transmission=None, \n",
    "                                car_type=None, paint_color=None, is_4wd=None, models=None, aggregation=\"Average Vehicle Price\"):\n",
    "    \"\"\"\n",
    "    Plots a scatterplot of car prices over the years with optional filters.\n",
    "\n",
    "    Parameters:\n",
    "    df (pd.DataFrame): The input DataFrame.\n",
    "    model_year (list or int, optional): The specific model year(s) to filter and plot. Defaults to None.\n",
    "    cylinders (list or int, optional): The number of cylinders to filter and plot. Defaults to None.\n",
    "    condition (list or str, optional): The condition of the car to filter and plot. Defaults to None.\n",
    "    fuel (list or str, optional): The type of fuel to filter and plot. Defaults to None.\n",
    "    transmission (list or str, optional): The type of transmission to filter and plot. Defaults to None.\n",
    "    car_type (list or str, optional): The type of car to filter and plot. Defaults to None.\n",
    "    paint_color (list or str, optional): The paint color of the car to filter and plot. Defaults to None.\n",
    "    is_4wd (list or bool, optional): Whether the car is 4WD to filter and plot. Defaults to None.\n",
    "    models (list of str, optional): List of substrings to filter models. Defaults to None.\n",
    "    aggregation (str, optional): The aggregation method for price ('Average Price' or 'Market Capitalization'). Defaults to 'Average Price'.\n",
    "    \"\"\"\n",
    "    # Apply filters\n",
    "    filters_applied = {\n",
    "        'model_year': model_year,\n",
    "        'cylinders': cylinders,\n",
    "        'condition': condition,\n",
    "        'fuel': fuel,\n",
    "        'transmission': transmission,\n",
    "        'car_type': car_type,\n",
    "        'paint_color': paint_color,\n",
    "        'is_4wd': is_4wd,\n",
    "        'models': models\n",
    "    }\n",
    "\n",
    "    # Treat empty lists as None\n",
    "    for key, value in filters_applied.items():\n",
    "        if isinstance(value, list) and len(value) == 0:\n",
    "            filters_applied[key] = None\n",
    "\n",
    "    if filters_applied['model_year'] is not None:\n",
    "        if isinstance(filters_applied['model_year'], list):\n",
    "            df = df[df['model_year'].isin(filters_applied['model_year'])]\n",
    "        else:\n",
    "            df = df[df['model_year'] == filters_applied['model_year']]\n",
    "    if filters_applied['cylinders'] is not None:\n",
    "        if isinstance(filters_applied['cylinders'], list):\n",
    "            df = df[df['cylinders'].isin(filters_applied['cylinders'])]\n",
    "        else:\n",
    "            df = df[df['cylinders'] == filters_applied['cylinders']]\n",
    "    if filters_applied['condition'] is not None:\n",
    "        if isinstance(filters_applied['condition'], list):\n",
    "            df = df[df['condition'].isin(filters_applied['condition'])]\n",
    "        else:\n",
    "            df = df[df['condition'] == filters_applied['condition']]\n",
    "    if filters_applied['fuel'] is not None:\n",
    "        if isinstance(filters_applied['fuel'], list):\n",
    "            df = df[df['fuel'].isin(filters_applied['fuel'])]\n",
    "        else:\n",
    "            df = df[df['fuel'] == filters_applied['fuel']]\n",
    "    if filters_applied['transmission'] is not None:\n",
    "        if isinstance(filters_applied['transmission'], list):\n",
    "            df = df[df['transmission'].isin(filters_applied['transmission'])]\n",
    "        else:\n",
    "            df = df[df['transmission'] == filters_applied['transmission']]\n",
    "    if filters_applied['car_type'] is not None:\n",
    "        if isinstance(filters_applied['car_type'], list):\n",
    "            df = df[df['type'].isin(filters_applied['car_type'])]\n",
    "        else:\n",
    "            df = df[df['type'] == filters_applied['car_type']]\n",
    "    if filters_applied['paint_color'] is not None:\n",
    "        if isinstance(filters_applied['paint_color'], list):\n",
    "            df = df[df['paint_color'].isin(filters_applied['paint_color'])]\n",
    "        else:\n",
    "            df = df[df['paint_color'] == filters_applied['paint_color']]\n",
    "    if filters_applied['is_4wd'] is not None:\n",
    "        if isinstance(filters_applied['is_4wd'], list):\n",
    "            df = df[df['is_4wd'].isin(filters_applied['is_4wd'])]\n",
    "        else:\n",
    "            df = df[df['is_4wd'] == filters_applied['is_4wd']]\n",
    "    if filters_applied['models'] is not None:\n",
    "        model_pattern = '|'.join(filters_applied['models'])\n",
    "        df = df[df['model'].str.contains(model_pattern, case=False, na=False)]\n",
    "    \n",
    "    # Set the aggregation function for price\n",
    "    if aggregation == \"Average Vehicle Price\":\n",
    "        df_grouped = df.groupby('model_year')['price'].mean().reset_index()\n",
    "        y_title = 'Average Vehicle Price'\n",
    "    else:\n",
    "        df_grouped = df.groupby('model_year')['price'].sum().reset_index()\n",
    "        y_title = 'Market Capitalization'\n",
    "    \n",
    "    # Create the scatter plot\n",
    "    fig = px.scatter(df_grouped, x='model_year', y='price', \n",
    "                     title=\"Scatterplot of Car Prices over Years\",\n",
    "                     labels={'model_year': 'Model Year', 'price': y_title},\n",
    "                     color_discrete_sequence=px.colors.qualitative.Pastel)\n",
    "    fig.update_layout(xaxis_title='Model Year', yaxis_title=y_title, template='plotly_white')\n",
    "\n",
    "    return fig, len(df)\n",
    "\n",
    "\n",
    "# Plot histogram with no filterd and aggregation as Market Capitalizaiton (sum)\n",
    "fig_histo, count_histo = plot_histogram_price_filtered(df_clean, aggregation='Market Capitalization')\n",
    "fig_histo.show()\n",
    "print(\"Vehicles in plot: \",count_histo)\n",
    "\n",
    "# Plot scatterplot for all model years with specific filters and default aggregation (mean)\n",
    "fig_scatter_mean, count_scatter_mean = plot_scatterplot_price_year(df_clean, aggregation='Average Vehicle Price')\n",
    "fig_scatter_mean.show()\n",
    "print(\"Vehicles in plot: \",count_scatter_mean)\n",
    "\n",
    "# Plot scatterplot for all model years with specific filters and Market Capitalization  (sum)\n",
    "fig_scatter_sum, count_scatter_sum = plot_scatterplot_price_year(df_clean, aggregation='Market Capitalization')\n",
    "fig_scatter_sum.show()\n",
    "print(\"Vehicles in plot: \",count_scatter_sum)"
   ]
  },
  {
   "cell_type": "markdown",
   "metadata": {},
   "source": [
    "# Conclusions\n",
    "\n",
    "1. The most popular vehicles are trucks: \n",
    "    1. F150\n",
    "    2. Chevrolet Silverado \n",
    "    4. RAM\n",
    "\n",
    "2. Vehicles have their lowest value in the 2000s, current year is mid 2019, so this means lowest car values hit during late teens.\n",
    "\n",
    "3. Most frequent model year is 2015, since data is from mod 2019 it means that there4 are more 4 year old cars on the platform. Perhaps it's normal to get a new car every 4 years? Do Americas really do this??? I might need a new car ....."
   ]
  }
 ],
 "metadata": {
  "kernelspec": {
   "display_name": "tripleten",
   "language": "python",
   "name": "python3"
  },
  "language_info": {
   "codemirror_mode": {
    "name": "ipython",
    "version": 3
   },
   "file_extension": ".py",
   "mimetype": "text/x-python",
   "name": "python",
   "nbconvert_exporter": "python",
   "pygments_lexer": "ipython3",
   "version": "3.10.14"
  }
 },
 "nbformat": 4,
 "nbformat_minor": 2
}
